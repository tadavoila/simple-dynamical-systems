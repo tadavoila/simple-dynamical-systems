{
 "cells": [
  {
   "cell_type": "code",
   "execution_count": 1,
   "id": "dedb0e5e",
   "metadata": {},
   "outputs": [],
   "source": [
    "import pandas as pd\n",
    "import numpy as np\n",
    "import random\n",
    "import json"
   ]
  },
  {
   "cell_type": "code",
   "execution_count": 2,
   "id": "5ad9632d",
   "metadata": {},
   "outputs": [],
   "source": [
    "def reset_data():\n",
    "    # Reading the JSON file\n",
    "    data = pd.read_json('Outputs/Old/strengths.json', lines=True)\n",
    "\n",
    "    # Saving the filtered data to JSON file without rounding\n",
    "    data_path = \"Outputs/Old/old_model_data.json\"\n",
    "    data.to_json(data_path, orient='records', lines=True, double_precision=15)\n",
    "\n",
    "    return data_path"
   ]
  },
  {
   "cell_type": "code",
   "execution_count": 3,
   "id": "51bf7ae7",
   "metadata": {},
   "outputs": [],
   "source": [
    "def contains_small_exemplars(exemplars_list):\n",
    "    return any(exemplar < 0.0000000001 for exemplar in exemplars_list)"
   ]
  },
  {
   "cell_type": "code",
   "execution_count": 4,
   "id": "7f6055e1",
   "metadata": {},
   "outputs": [],
   "source": [
    "def remove_small_exemplars(row):\n",
    "    # Threshold for removal\n",
    "    threshold = 0.0000000001\n",
    "\n",
    "    # Find indices of exemplar strengths that are below the threshold\n",
    "    indices_to_remove = [index for index, strength in enumerate(row['exemplar_strength']) if strength < threshold]\n",
    "\n",
    "    # Remove these indices from both 'exemplar' and 'exemplar_strength'\n",
    "    row['exemplar'] = [exemplar for index, exemplar in enumerate(row['exemplar']) if index not in indices_to_remove]\n",
    "    row['exemplar_strength'] = [strength for index, strength in enumerate(row['exemplar_strength']) if index not in indices_to_remove]\n",
    "\n",
    "    return row"
   ]
  },
  {
   "cell_type": "code",
   "execution_count": 5,
   "id": "fd7ee876",
   "metadata": {},
   "outputs": [],
   "source": [
    "def old_model(runs):\n",
    "    for a in range(runs):\n",
    "        # Define mean dictionaries\n",
    "        means_1_6 = {}\n",
    "        means_7_12 = {}\n",
    "        \n",
    "        # Reset data path\n",
    "        pivoted_data_path = reset_data()\n",
    "        kdf = pd.read_json(pivoted_data_path, orient='records', lines=True)\n",
    "        k = 1 - 1/int(kdf['frequency'].sum())\n",
    "\n",
    "        for i in range(10000):\n",
    "            # Read master data\n",
    "            df = pd.read_json(pivoted_data_path, orient='records', lines=True)\n",
    "\n",
    "            # Extract the 'words' dictionary from the DataFrame\n",
    "            words_data = df['word_key'].tolist()\n",
    "            frequencies = df['frequency'].astype(int).tolist()\n",
    "\n",
    "            # Picking a word based on its frequency\n",
    "            chosen_word = random.choices(words_data, weights=frequencies, k=1)[0]\n",
    "\n",
    "            # Extract exemplars for the chosen word\n",
    "            exemplars_list = df[df.word_key == chosen_word]['exemplar'].iloc[0]\n",
    "            \n",
    "            # Extract exemplar strengths for the chosen word\n",
    "            exemplar_strengths = df[df.word_key == chosen_word]['exemplar_strength'].iloc[0]\n",
    "\n",
    "            # Choose an exemplar weighted by exemplar strength\n",
    "            chosen_exemplar = random.choices(exemplars_list, weights=exemplar_strengths, k=1)[0]\n",
    "\n",
    "            # Add the chosen exemplar to the end of the exemplars list\n",
    "            exemplars_list.append(chosen_exemplar + 0.1)\n",
    "            \n",
    "            # Multiply all the exemplar strengths in the entire dataframe by k\n",
    "            df['exemplar_strength'] = df['exemplar_strength'].apply(lambda x: [item * k for item in x])\n",
    "            exemplar_strengths = [item * k for item in exemplar_strengths]\n",
    "            \n",
    "            # Add an exemplar strength of 1 to the end of the exemplar strengths list \n",
    "            exemplar_strengths.append(1)\n",
    "\n",
    "            # Update the dataframe with the new exemplar list and exemplar strength list\n",
    "            df.at[df[df.word_key == chosen_word].index[0], 'exemplar'] = exemplars_list\n",
    "            df.at[df[df.word_key == chosen_word].index[0], 'exemplar_strength'] = exemplar_strengths\n",
    "            \n",
    "            if len(df[df.word_key == chosen_word]['exemplar']) > 1:\n",
    "                if df['exemplar_strength'].apply(contains_small_exemplars).any():\n",
    "                     df = df.apply(remove_small_exemplars, axis=1)\n",
    "            \n",
    "            # Save the dataframe to JSON\n",
    "            df.to_json(pivoted_data_path, orient='records', lines=True)\n",
    "\n",
    "            # Save the mean of the exemplars\n",
    "            if int(df[df.word_key == chosen_word]['frequency']) < 7:\n",
    "                means_1_6[i] = np.mean(exemplars_list)\n",
    "            else:\n",
    "                means_7_12[i] = np.mean(exemplars_list)\n",
    "                \n",
    "        # Save the mean dictionaries as JSON files        \n",
    "        means_1_6_path = \"Outputs/Old/old_means_1_6_r\" + str(a+1) + \".json\"\n",
    "        means_7_12_path = \"Outputs/Old/old_means_7_12_r\" + str(a+1) + \".json\"\n",
    "\n",
    "        with open(means_1_6_path, 'w') as f:\n",
    "            json.dump(means_1_6, f)\n",
    "\n",
    "        with open(means_7_12_path, 'w') as f:\n",
    "            json.dump(means_7_12, f)"
   ]
  },
  {
   "cell_type": "code",
   "execution_count": 6,
   "id": "b9094ede",
   "metadata": {},
   "outputs": [],
   "source": [
    "old_model(10)"
   ]
  }
 ],
 "metadata": {
  "kernelspec": {
   "display_name": "Python 3 (ipykernel)",
   "language": "python",
   "name": "python3"
  },
  "language_info": {
   "codemirror_mode": {
    "name": "ipython",
    "version": 3
   },
   "file_extension": ".py",
   "mimetype": "text/x-python",
   "name": "python",
   "nbconvert_exporter": "python",
   "pygments_lexer": "ipython3",
   "version": "3.9.13"
  }
 },
 "nbformat": 4,
 "nbformat_minor": 5
}
