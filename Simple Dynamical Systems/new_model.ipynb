{
 "cells": [
  {
   "cell_type": "code",
   "execution_count": 1,
   "id": "dedb0e5e",
   "metadata": {},
   "outputs": [],
   "source": [
    "import pandas as pd\n",
    "import numpy as np\n",
    "import random\n",
    "import json"
   ]
  },
  {
   "cell_type": "code",
   "execution_count": 2,
   "id": "f93da437",
   "metadata": {},
   "outputs": [],
   "source": [
    "def reset_data():\n",
    "    data = pd.read_json('Data/initial_data_1cat.json')\n",
    "    \n",
    "    # Extracting the 'words' data and flattening it\n",
    "    words_data = pd.json_normalize(data['Category']['words'])\n",
    "\n",
    "    # Transposing the DataFrame for better readability and structure\n",
    "    words_data = words_data.transpose()\n",
    "\n",
    "    # Resetting the index to have a proper DataFrame structure\n",
    "    words_data.reset_index(inplace=True)\n",
    "\n",
    "    # Splitting the 'index' column to separate word keys from their properties\n",
    "    words_data[['word_key', 'property']] = words_data['index'].str.split('.', expand=True)\n",
    "\n",
    "    # Pivoting the table to have properties as columns\n",
    "    pivoted_data = words_data.pivot(index='word_key', columns='property', values=0)\n",
    "\n",
    "    # Resetting index for clarity\n",
    "    pivoted_data.reset_index(inplace=True)\n",
    "\n",
    "    # Saving the filtered data to JSON file\n",
    "    pivoted_data_path = \"Data/pivoted_data.json\"\n",
    "\n",
    "    pivoted_data.to_json(pivoted_data_path, orient='records', lines=True)\n",
    "    \n",
    "    return \"Data/pivoted_data.json\""
   ]
  },
  {
   "cell_type": "code",
   "execution_count": 3,
   "id": "fd7ee876",
   "metadata": {},
   "outputs": [],
   "source": [
    "def new_model(runs):\n",
    "    for a in range(runs):\n",
    "        # Define mean dictionaries\n",
    "        means_1_6 = {}\n",
    "        means_7_12 = {}\n",
    "        \n",
    "        # Reset data\n",
    "        pivoted_data_path = reset_data()\n",
    "\n",
    "        for i in range(10000):\n",
    "            # Read master data\n",
    "            df = pd.read_json(pivoted_data_path, orient='records', lines=True)\n",
    "\n",
    "            # Extract the 'words' dictionary from the DataFrame\n",
    "            words_data = df['word_key'].tolist()\n",
    "            frequencies = df['frequency'].astype(int).tolist()\n",
    "\n",
    "            # Picking a word based on its frequency\n",
    "            chosen_word = random.choices(words_data, weights=frequencies, k=1)[0]\n",
    "\n",
    "            # Extract exemplars for the chosen word\n",
    "            exemplars_list = df[df.word_key == chosen_word]['exemplars'].iloc[0]\n",
    "\n",
    "            # Choose an exemplar randomly without weighting\n",
    "            chosen_exemplar = random.choice(exemplars_list)\n",
    "\n",
    "            # Add 0.1 to chosen exemplar\n",
    "            new_exemplar = chosen_exemplar + 0.1\n",
    "\n",
    "            # Choose a random index within the range of indices\n",
    "            random_index = np.random.choice(len(exemplars_list))\n",
    "\n",
    "            # Replace the value of the exemplar at the random index with the new exemplar\n",
    "            exemplars_list[random_index] = new_exemplar\n",
    "\n",
    "            # Update the dataframe with the new exemplar list\n",
    "            df.at[df[df.word_key == chosen_word].index[0], 'exemplars'] = exemplars_list\n",
    "            df.to_json(pivoted_data_path, orient='records', lines=True)\n",
    "\n",
    "            # Save the mean of the exemplars\n",
    "            if int(df[df.word_key == chosen_word]['frequency']) < 7:\n",
    "                means_1_6[i] = np.mean(exemplars_list)\n",
    "            else:\n",
    "                means_7_12[i] = np.mean(exemplars_list)\n",
    "                \n",
    "        # Save the mean dictionaries as JSON files        \n",
    "        means_1_6_path = \"Outputs/means_1_6_r\" + str(a+1) + \".json\"\n",
    "        means_7_12_path = \"Outputs/means_7_12_r\" + str(a+1) + \".json\"\n",
    "\n",
    "        with open(means_1_6_path, 'w') as f:\n",
    "            json.dump(means_1_6, f)\n",
    "\n",
    "        with open(means_7_12_path, 'w') as f:\n",
    "            json.dump(means_7_12, f)"
   ]
  },
  {
   "cell_type": "code",
   "execution_count": 4,
   "id": "b62b17f9",
   "metadata": {},
   "outputs": [],
   "source": [
    "new_model(10)"
   ]
  }
 ],
 "metadata": {
  "kernelspec": {
   "display_name": "Python 3 (ipykernel)",
   "language": "python",
   "name": "python3"
  },
  "language_info": {
   "codemirror_mode": {
    "name": "ipython",
    "version": 3
   },
   "file_extension": ".py",
   "mimetype": "text/x-python",
   "name": "python",
   "nbconvert_exporter": "python",
   "pygments_lexer": "ipython3",
   "version": "3.9.13"
  }
 },
 "nbformat": 4,
 "nbformat_minor": 5
}
