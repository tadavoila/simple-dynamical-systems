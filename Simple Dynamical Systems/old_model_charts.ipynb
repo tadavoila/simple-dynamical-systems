{
 "cells": [
  {
   "cell_type": "code",
   "execution_count": 1,
   "id": "2356c59e",
   "metadata": {},
   "outputs": [],
   "source": [
    "import plotly.express as px\n",
    "import plotly.graph_objects as go\n",
    "import pandas as pd\n",
    "import numpy as np"
   ]
  },
  {
   "cell_type": "code",
   "execution_count": 2,
   "id": "88aedd0d",
   "metadata": {},
   "outputs": [],
   "source": [
    "def database(runs):    \n",
    "    # Initialize lists to store dataframes for each group\n",
    "    dfs_1_6 = []\n",
    "    dfs_7_12 = []\n",
    "    \n",
    "    for a in range(1, runs+1):\n",
    "        means_1_6_path = 'Outputs/Old/old_means_1_6_r' + str(a) + '.json'\n",
    "        means_7_12_path = 'Outputs/Old/old_means_7_12_r' + str(a) + '.json'\n",
    "        \n",
    "        means_1_6 = pd.read_json(means_1_6_path, typ='series').to_frame(name=f'Mean{a}')\n",
    "        means_7_12 = pd.read_json(means_7_12_path, typ='series').to_frame(name=f'Mean{a}')\n",
    "        \n",
    "        means_1_6[f'Iteration{a}'] = (means_1_6.index + 1).astype(float)\n",
    "        means_7_12[f'Iteration{a}'] = (means_7_12.index + 1).astype(float)\n",
    "        \n",
    "        # Append the dataframes to their respective lists\n",
    "        dfs_1_6.append(means_1_6)\n",
    "        dfs_7_12.append(means_7_12)\n",
    "    \n",
    "    # Concatenate the dataframes side by side for each group\n",
    "    df_1_6 = pd.concat(dfs_1_6, axis=1)\n",
    "    df_7_12 = pd.concat(dfs_7_12, axis=1)\n",
    "    \n",
    "    return df_1_6, df_7_12\n",
    "\n",
    "def plots(runs):\n",
    "    df_1_6, df_7_12 = database(runs)\n",
    "    \n",
    "    # Calculate the average mean for each group of iterations\n",
    "    df_1_6['AvgMean'] = df_1_6.filter(like='Mean').mean(axis=1)\n",
    "    df_7_12['AvgMean'] = df_7_12.filter(like='Mean').mean(axis=1)\n",
    "    \n",
    "    # Group by iterations per 200 and calculate the mean for each group\n",
    "    grouped_1_6 = df_1_6.groupby((df_1_6.index // 200) * 200)['AvgMean'].mean()\n",
    "    grouped_7_12 = df_7_12.groupby((df_7_12.index // 200) * 200)['AvgMean'].mean()\n",
    "    \n",
    "    # Calculate bin edges for x-axis labels based on the maximum iteration\n",
    "    max_iteration = max(grouped_1_6.index.max(), grouped_7_12.index.max())\n",
    "    bin_edges = [(i, i+200) for i in range(0, max_iteration+1, 200)]\n",
    "    bin_labels = [f'{edge[0]}-{edge[1]}' for edge in bin_edges]\n",
    "    \n",
    "    # Scatter plot for the 'grouped_1_6' DataFrame with blue dots\n",
    "    fig = go.Figure(data=go.Scatter(x=bin_labels,\n",
    "                                    y=grouped_1_6,\n",
    "                                    mode='markers',\n",
    "                                    marker=dict(color='blue', size=5),\n",
    "                                    name='Low Frequency (1-6) Words'))\n",
    "\n",
    "    # Scatter plot for the 'grouped_7_12' DataFrame with red dots\n",
    "    fig.add_trace(go.Scatter(x=bin_labels,\n",
    "                             y=grouped_7_12,\n",
    "                             mode='markers',\n",
    "                             marker=dict(color='red', size=5),\n",
    "                             name='High Frequency (7-12) Words'))\n",
    "\n",
    "    # Linear regression for grouped_1_6\n",
    "    slope_1_6, intercept_1_6 = np.polyfit(grouped_1_6.index, grouped_1_6, 1)\n",
    "    regression_1_6 = slope_1_6 * grouped_1_6.index + intercept_1_6\n",
    "\n",
    "    # Linear regression for grouped_7_12\n",
    "    slope_7_12, intercept_7_12 = np.polyfit(grouped_7_12.index, grouped_7_12, 1)\n",
    "    regression_7_12 = slope_7_12 * grouped_7_12.index + intercept_7_12\n",
    "\n",
    "    # Regression line for grouped_1_6\n",
    "    fig.add_trace(go.Scatter(x=bin_labels,\n",
    "                             y=regression_1_6,\n",
    "                             mode='lines',\n",
    "                             line=dict(color='blue'),\n",
    "                             name='Regression (1-6)'))\n",
    "\n",
    "    # Regression line for grouped_7_12\n",
    "    fig.add_trace(go.Scatter(x=bin_labels,\n",
    "                             y=regression_7_12,\n",
    "                             mode='lines',\n",
    "                             line=dict(color='red'),\n",
    "                             name='Regression (7-12)'))\n",
    "\n",
    "    # Calculate the difference between the means of the two groups\n",
    "    difference = grouped_7_12 - grouped_1_6\n",
    "\n",
    "    # Linear regression for the difference\n",
    "    slope_diff, intercept_diff = np.polyfit(difference.index, difference, 1)\n",
    "    regression_diff = slope_diff * difference.index + intercept_diff\n",
    "\n",
    "    # Regression line for the difference\n",
    "    fig.add_trace(go.Scatter(x=bin_labels,\n",
    "                             y=regression_diff,\n",
    "                             mode='lines',\n",
    "                             line=dict(color='black'),\n",
    "                             name='Difference Regression'))\n",
    "\n",
    "    # Update the layout\n",
    "    fig.update_layout(title='Old Model average exemplar means over time (averaged per 200 iterations)', \n",
    "                      xaxis_title='Iteration', \n",
    "                      yaxis_title='Mean',\n",
    "                      plot_bgcolor='rgba(0,0,0,0)',\n",
    "                      font=dict(\n",
    "                            family=\"Arial\",\n",
    "                            size=12,\n",
    "                            color=\"Black\"\n",
    "                        ),\n",
    "                     width = 1500)\n",
    "\n",
    "    fig.show()"
   ]
  },
  {
   "cell_type": "code",
   "execution_count": 5,
   "id": "9a8ea973",
   "metadata": {},
   "outputs": [
    {
     "data": {
      "application/vnd.plotly.v1+json": {
       "config": {
        "plotlyServerURL": "https://plotly.com"
       },
       "data": [
        {
         "marker": {
          "color": "blue",
          "size": 5
         },
         "mode": "markers",
         "name": "Low Frequency (1-6) Words",
         "type": "scatter",
         "x": [
          "0-200",
          "200-400",
          "400-600",
          "600-800",
          "800-1000",
          "1000-1200",
          "1200-1400",
          "1400-1600",
          "1600-1800",
          "1800-2000",
          "2000-2200",
          "2200-2400",
          "2400-2600",
          "2600-2800",
          "2800-3000",
          "3000-3200",
          "3200-3400",
          "3400-3600",
          "3600-3800",
          "3800-4000",
          "4000-4200",
          "4200-4400",
          "4400-4600",
          "4600-4800",
          "4800-5000",
          "5000-5200",
          "5200-5400",
          "5400-5600",
          "5600-5800",
          "5800-6000",
          "6000-6200",
          "6200-6400",
          "6400-6600",
          "6600-6800",
          "6800-7000",
          "7000-7200",
          "7200-7400",
          "7400-7600",
          "7600-7800",
          "7800-8000",
          "8000-8200",
          "8200-8400",
          "8400-8600",
          "8600-8800",
          "8800-9000",
          "9000-9200",
          "9200-9400",
          "9400-9600",
          "9600-9800",
          "9800-10000"
         ],
         "y": [
          -0.04305769459137329,
          -0.011780879561285217,
          -0.015560324889814695,
          -0.01955288040926179,
          -0.021510696064951696,
          0.007907183235889171,
          0.014988321189157215,
          0.004447658555530734,
          0.02913552551149837,
          0.03373255549993031,
          0.044170272596201834,
          0.06770375460078708,
          0.05419334293590595,
          0.10318662517258557,
          0.08072386456420762,
          0.05283907656077053,
          0.07725002800566601,
          0.07902027328755871,
          0.09961693075084133,
          0.12585413307493876,
          0.1481638154941519,
          0.16004688208739395,
          0.13687464422136053,
          0.11498647025175306,
          0.18423300902771164,
          0.17101434669862958,
          0.18850743199791942,
          0.16800524613823012,
          0.23423885578077183,
          0.22558142421539282,
          0.2240222664855922,
          0.25350853243218235,
          0.27017479951172807,
          0.26860365324903607,
          0.27500570422107873,
          0.3041601999422456,
          0.3529139149957543,
          0.32883438933265624,
          0.28579138089899225,
          0.33331857217248,
          0.37168047295233714,
          0.35973491317771755,
          0.413565440871571,
          0.3618234188743871,
          0.40901164699068376,
          0.4789579741264156,
          0.48074854345753226,
          0.5050647578531219,
          0.42181819036502005,
          0.4867044126198189
         ]
        },
        {
         "marker": {
          "color": "red",
          "size": 5
         },
         "mode": "markers",
         "name": "High Frequency (7-12) Words",
         "type": "scatter",
         "x": [
          "0-200",
          "200-400",
          "400-600",
          "600-800",
          "800-1000",
          "1000-1200",
          "1200-1400",
          "1400-1600",
          "1600-1800",
          "1800-2000",
          "2000-2200",
          "2200-2400",
          "2400-2600",
          "2600-2800",
          "2800-3000",
          "3000-3200",
          "3200-3400",
          "3400-3600",
          "3600-3800",
          "3800-4000",
          "4000-4200",
          "4200-4400",
          "4400-4600",
          "4600-4800",
          "4800-5000",
          "5000-5200",
          "5200-5400",
          "5400-5600",
          "5600-5800",
          "5800-6000",
          "6000-6200",
          "6200-6400",
          "6400-6600",
          "6600-6800",
          "6800-7000",
          "7000-7200",
          "7200-7400",
          "7400-7600",
          "7600-7800",
          "7800-8000",
          "8000-8200",
          "8200-8400",
          "8400-8600",
          "8600-8800",
          "8800-9000",
          "9000-9200",
          "9200-9400",
          "9400-9600",
          "9600-9800",
          "9800-10000"
         ],
         "y": [
          -0.0005071773076269257,
          0.00592268564341536,
          0.02063822636611949,
          0.010943763217030006,
          0.004443515949185891,
          0.01755653814850309,
          0.04334363737249661,
          0.022040274885373794,
          0.045685761788731544,
          0.04784431462927815,
          0.08947525897437304,
          0.057406366838011064,
          0.0654990166372487,
          0.06787451135375497,
          0.10016632250154743,
          0.12606707073341206,
          0.09480030385120884,
          0.08659148934229774,
          0.12885296203531094,
          0.12710277735313708,
          0.13756706448323908,
          0.14559526694150893,
          0.1695535438706943,
          0.1710316065211267,
          0.17662476022082266,
          0.1879564955517209,
          0.22497827510190302,
          0.2269954472894243,
          0.22754435030299697,
          0.21701506315219202,
          0.2793211251240846,
          0.263055554292256,
          0.24842689834320844,
          0.29219404370161906,
          0.30606058257275864,
          0.3150730307917323,
          0.33591074572939256,
          0.3617074002563564,
          0.3508256142978569,
          0.3660049498260259,
          0.3798018223245709,
          0.3961463676232349,
          0.40505269911480346,
          0.42007205041327444,
          0.4435556314420448,
          0.4460804192327872,
          0.48189335865821853,
          0.47664222421547947,
          0.47185157076595535,
          0.5313742169525458
         ]
        },
        {
         "line": {
          "color": "blue"
         },
         "mode": "lines",
         "name": "Regression (1-6)",
         "type": "scatter",
         "x": [
          "0-200",
          "200-400",
          "400-600",
          "600-800",
          "800-1000",
          "1000-1200",
          "1200-1400",
          "1400-1600",
          "1600-1800",
          "1800-2000",
          "2000-2200",
          "2200-2400",
          "2400-2600",
          "2600-2800",
          "2800-3000",
          "3000-3200",
          "3200-3400",
          "3400-3600",
          "3600-3800",
          "3800-4000",
          "4000-4200",
          "4200-4400",
          "4400-4600",
          "4600-4800",
          "4800-5000",
          "5000-5200",
          "5200-5400",
          "5400-5600",
          "5600-5800",
          "5800-6000",
          "6000-6200",
          "6200-6400",
          "6400-6600",
          "6600-6800",
          "6800-7000",
          "7000-7200",
          "7200-7400",
          "7400-7600",
          "7600-7800",
          "7800-8000",
          "8000-8200",
          "8200-8400",
          "8400-8600",
          "8600-8800",
          "8800-9000",
          "9000-9200",
          "9200-9400",
          "9400-9600",
          "9600-9800",
          "9800-10000"
         ],
         "y": [
          -0.06822216887781904,
          -0.057535221266097086,
          -0.046848273654375126,
          -0.036161326042653166,
          -0.025474378430931213,
          -0.014787430819209253,
          -0.004100483207487293,
          0.00658646440423466,
          0.017273412015956613,
          0.027960359627678566,
          0.03864730723940053,
          0.049334254851122486,
          0.06002120246284445,
          0.0707081500745664,
          0.08139509768628836,
          0.09208204529801031,
          0.10276899290973227,
          0.11345594052145422,
          0.12414288813317617,
          0.13482983574489812,
          0.1455167833566201,
          0.15620373096834206,
          0.166890678580064,
          0.17757762619178596,
          0.18826457380350795,
          0.1989515214152299,
          0.20963846902695185,
          0.2203254166386738,
          0.23101236425039576,
          0.2416993118621177,
          0.25238625947383964,
          0.2630732070855616,
          0.27376015469728354,
          0.2844471023090055,
          0.29513404992072745,
          0.3058209975324494,
          0.31650794514417135,
          0.3271948927558933,
          0.33788184036761526,
          0.3485687879793373,
          0.3592557355910593,
          0.36994268320278123,
          0.3806296308145032,
          0.39131657842622514,
          0.4020035260379471,
          0.41269047364966904,
          0.423377421261391,
          0.43406436887311295,
          0.4447513164848349,
          0.45543826409655686
         ]
        },
        {
         "line": {
          "color": "red"
         },
         "mode": "lines",
         "name": "Regression (7-12)",
         "type": "scatter",
         "x": [
          "0-200",
          "200-400",
          "400-600",
          "600-800",
          "800-1000",
          "1000-1200",
          "1200-1400",
          "1400-1600",
          "1600-1800",
          "1800-2000",
          "2000-2200",
          "2200-2400",
          "2400-2600",
          "2600-2800",
          "2800-3000",
          "3000-3200",
          "3200-3400",
          "3400-3600",
          "3600-3800",
          "3800-4000",
          "4000-4200",
          "4200-4400",
          "4400-4600",
          "4600-4800",
          "4800-5000",
          "5000-5200",
          "5200-5400",
          "5400-5600",
          "5600-5800",
          "5800-6000",
          "6000-6200",
          "6200-6400",
          "6400-6600",
          "6600-6800",
          "6800-7000",
          "7000-7200",
          "7200-7400",
          "7400-7600",
          "7600-7800",
          "7800-8000",
          "8000-8200",
          "8200-8400",
          "8400-8600",
          "8600-8800",
          "8800-9000",
          "9000-9200",
          "9200-9400",
          "9400-9600",
          "9600-9800",
          "9800-10000"
         ],
         "y": [
          -0.04770464321698391,
          -0.03709003753512608,
          -0.02647543185326826,
          -0.01586082617141043,
          -0.00524622048955261,
          0.005368385192305217,
          0.01598299087416305,
          0.02659759655602087,
          0.03721220223787869,
          0.04782680791973652,
          0.05844141360159434,
          0.06905601928345217,
          0.07967062496531001,
          0.09028523064716783,
          0.10089983632902565,
          0.11151444201088347,
          0.12212904769274129,
          0.13274365337459915,
          0.14335825905645694,
          0.15397286473831479,
          0.16458747042017258,
          0.17520207610203042,
          0.18581668178388827,
          0.19643128746574606,
          0.2070458931476039,
          0.2176604988294617,
          0.22827510451131955,
          0.23888971019317734,
          0.2495043158750352,
          0.26011892155689303,
          0.2707335272387508,
          0.2813481329206087,
          0.29196273860246647,
          0.3025773442843243,
          0.31319194996618216,
          0.32380655564803995,
          0.3344211613298978,
          0.34503576701175565,
          0.35565037269361344,
          0.3662649783754713,
          0.3768795840573291,
          0.3874941897391869,
          0.39810879542104477,
          0.40872340110290256,
          0.4193380067847604,
          0.4299526124666182,
          0.44056721814847605,
          0.4511818238303339,
          0.46179642951219174,
          0.47241103519404953
         ]
        },
        {
         "line": {
          "color": "black"
         },
         "mode": "lines",
         "name": "Difference Regression",
         "type": "scatter",
         "x": [
          "0-200",
          "200-400",
          "400-600",
          "600-800",
          "800-1000",
          "1000-1200",
          "1200-1400",
          "1400-1600",
          "1600-1800",
          "1800-2000",
          "2000-2200",
          "2200-2400",
          "2400-2600",
          "2600-2800",
          "2800-3000",
          "3000-3200",
          "3200-3400",
          "3400-3600",
          "3600-3800",
          "3800-4000",
          "4000-4200",
          "4200-4400",
          "4400-4600",
          "4600-4800",
          "4800-5000",
          "5000-5200",
          "5200-5400",
          "5400-5600",
          "5600-5800",
          "5800-6000",
          "6000-6200",
          "6200-6400",
          "6400-6600",
          "6600-6800",
          "6800-7000",
          "7000-7200",
          "7200-7400",
          "7400-7600",
          "7600-7800",
          "7800-8000",
          "8000-8200",
          "8200-8400",
          "8400-8600",
          "8600-8800",
          "8800-9000",
          "9000-9200",
          "9200-9400",
          "9400-9600",
          "9600-9800",
          "9800-10000"
         ],
         "y": [
          0.02051752566083512,
          0.020445183730970987,
          0.020372841801106857,
          0.020300499871242723,
          0.020228157941378593,
          0.02015581601151446,
          0.02008347408165033,
          0.020011132151786196,
          0.019938790221922065,
          0.019866448292057932,
          0.0197941063621938,
          0.019721764432329668,
          0.019649422502465538,
          0.019577080572601404,
          0.019504738642737274,
          0.01943239671287314,
          0.01936005478300901,
          0.019287712853144876,
          0.019215370923280746,
          0.019143028993416612,
          0.01907068706355248,
          0.01899834513368835,
          0.018926003203824215,
          0.018853661273960085,
          0.01878131934409595,
          0.01870897741423182,
          0.018636635484367687,
          0.018564293554503557,
          0.018491951624639423,
          0.018419609694775293,
          0.01834726776491116,
          0.01827492583504703,
          0.018202583905182895,
          0.01813024197531876,
          0.01805790004545463,
          0.0179855581155905,
          0.017913216185726367,
          0.017840874255862234,
          0.017768532325998104,
          0.01769619039613397,
          0.01762384846626984,
          0.017551506536405706,
          0.017479164606541576,
          0.017406822676677442,
          0.017334480746813312,
          0.017262138816949178,
          0.017189796887085048,
          0.017117454957220914,
          0.017045113027356784,
          0.01697277109749265
         ]
        }
       ],
       "layout": {
        "font": {
         "color": "Black",
         "family": "Arial",
         "size": 12
        },
        "plot_bgcolor": "rgba(0,0,0,0)",
        "template": {
         "data": {
          "bar": [
           {
            "error_x": {
             "color": "#2a3f5f"
            },
            "error_y": {
             "color": "#2a3f5f"
            },
            "marker": {
             "line": {
              "color": "#E5ECF6",
              "width": 0.5
             },
             "pattern": {
              "fillmode": "overlay",
              "size": 10,
              "solidity": 0.2
             }
            },
            "type": "bar"
           }
          ],
          "barpolar": [
           {
            "marker": {
             "line": {
              "color": "#E5ECF6",
              "width": 0.5
             },
             "pattern": {
              "fillmode": "overlay",
              "size": 10,
              "solidity": 0.2
             }
            },
            "type": "barpolar"
           }
          ],
          "carpet": [
           {
            "aaxis": {
             "endlinecolor": "#2a3f5f",
             "gridcolor": "white",
             "linecolor": "white",
             "minorgridcolor": "white",
             "startlinecolor": "#2a3f5f"
            },
            "baxis": {
             "endlinecolor": "#2a3f5f",
             "gridcolor": "white",
             "linecolor": "white",
             "minorgridcolor": "white",
             "startlinecolor": "#2a3f5f"
            },
            "type": "carpet"
           }
          ],
          "choropleth": [
           {
            "colorbar": {
             "outlinewidth": 0,
             "ticks": ""
            },
            "type": "choropleth"
           }
          ],
          "contour": [
           {
            "colorbar": {
             "outlinewidth": 0,
             "ticks": ""
            },
            "colorscale": [
             [
              0,
              "#0d0887"
             ],
             [
              0.1111111111111111,
              "#46039f"
             ],
             [
              0.2222222222222222,
              "#7201a8"
             ],
             [
              0.3333333333333333,
              "#9c179e"
             ],
             [
              0.4444444444444444,
              "#bd3786"
             ],
             [
              0.5555555555555556,
              "#d8576b"
             ],
             [
              0.6666666666666666,
              "#ed7953"
             ],
             [
              0.7777777777777778,
              "#fb9f3a"
             ],
             [
              0.8888888888888888,
              "#fdca26"
             ],
             [
              1,
              "#f0f921"
             ]
            ],
            "type": "contour"
           }
          ],
          "contourcarpet": [
           {
            "colorbar": {
             "outlinewidth": 0,
             "ticks": ""
            },
            "type": "contourcarpet"
           }
          ],
          "heatmap": [
           {
            "colorbar": {
             "outlinewidth": 0,
             "ticks": ""
            },
            "colorscale": [
             [
              0,
              "#0d0887"
             ],
             [
              0.1111111111111111,
              "#46039f"
             ],
             [
              0.2222222222222222,
              "#7201a8"
             ],
             [
              0.3333333333333333,
              "#9c179e"
             ],
             [
              0.4444444444444444,
              "#bd3786"
             ],
             [
              0.5555555555555556,
              "#d8576b"
             ],
             [
              0.6666666666666666,
              "#ed7953"
             ],
             [
              0.7777777777777778,
              "#fb9f3a"
             ],
             [
              0.8888888888888888,
              "#fdca26"
             ],
             [
              1,
              "#f0f921"
             ]
            ],
            "type": "heatmap"
           }
          ],
          "heatmapgl": [
           {
            "colorbar": {
             "outlinewidth": 0,
             "ticks": ""
            },
            "colorscale": [
             [
              0,
              "#0d0887"
             ],
             [
              0.1111111111111111,
              "#46039f"
             ],
             [
              0.2222222222222222,
              "#7201a8"
             ],
             [
              0.3333333333333333,
              "#9c179e"
             ],
             [
              0.4444444444444444,
              "#bd3786"
             ],
             [
              0.5555555555555556,
              "#d8576b"
             ],
             [
              0.6666666666666666,
              "#ed7953"
             ],
             [
              0.7777777777777778,
              "#fb9f3a"
             ],
             [
              0.8888888888888888,
              "#fdca26"
             ],
             [
              1,
              "#f0f921"
             ]
            ],
            "type": "heatmapgl"
           }
          ],
          "histogram": [
           {
            "marker": {
             "pattern": {
              "fillmode": "overlay",
              "size": 10,
              "solidity": 0.2
             }
            },
            "type": "histogram"
           }
          ],
          "histogram2d": [
           {
            "colorbar": {
             "outlinewidth": 0,
             "ticks": ""
            },
            "colorscale": [
             [
              0,
              "#0d0887"
             ],
             [
              0.1111111111111111,
              "#46039f"
             ],
             [
              0.2222222222222222,
              "#7201a8"
             ],
             [
              0.3333333333333333,
              "#9c179e"
             ],
             [
              0.4444444444444444,
              "#bd3786"
             ],
             [
              0.5555555555555556,
              "#d8576b"
             ],
             [
              0.6666666666666666,
              "#ed7953"
             ],
             [
              0.7777777777777778,
              "#fb9f3a"
             ],
             [
              0.8888888888888888,
              "#fdca26"
             ],
             [
              1,
              "#f0f921"
             ]
            ],
            "type": "histogram2d"
           }
          ],
          "histogram2dcontour": [
           {
            "colorbar": {
             "outlinewidth": 0,
             "ticks": ""
            },
            "colorscale": [
             [
              0,
              "#0d0887"
             ],
             [
              0.1111111111111111,
              "#46039f"
             ],
             [
              0.2222222222222222,
              "#7201a8"
             ],
             [
              0.3333333333333333,
              "#9c179e"
             ],
             [
              0.4444444444444444,
              "#bd3786"
             ],
             [
              0.5555555555555556,
              "#d8576b"
             ],
             [
              0.6666666666666666,
              "#ed7953"
             ],
             [
              0.7777777777777778,
              "#fb9f3a"
             ],
             [
              0.8888888888888888,
              "#fdca26"
             ],
             [
              1,
              "#f0f921"
             ]
            ],
            "type": "histogram2dcontour"
           }
          ],
          "mesh3d": [
           {
            "colorbar": {
             "outlinewidth": 0,
             "ticks": ""
            },
            "type": "mesh3d"
           }
          ],
          "parcoords": [
           {
            "line": {
             "colorbar": {
              "outlinewidth": 0,
              "ticks": ""
             }
            },
            "type": "parcoords"
           }
          ],
          "pie": [
           {
            "automargin": true,
            "type": "pie"
           }
          ],
          "scatter": [
           {
            "fillpattern": {
             "fillmode": "overlay",
             "size": 10,
             "solidity": 0.2
            },
            "type": "scatter"
           }
          ],
          "scatter3d": [
           {
            "line": {
             "colorbar": {
              "outlinewidth": 0,
              "ticks": ""
             }
            },
            "marker": {
             "colorbar": {
              "outlinewidth": 0,
              "ticks": ""
             }
            },
            "type": "scatter3d"
           }
          ],
          "scattercarpet": [
           {
            "marker": {
             "colorbar": {
              "outlinewidth": 0,
              "ticks": ""
             }
            },
            "type": "scattercarpet"
           }
          ],
          "scattergeo": [
           {
            "marker": {
             "colorbar": {
              "outlinewidth": 0,
              "ticks": ""
             }
            },
            "type": "scattergeo"
           }
          ],
          "scattergl": [
           {
            "marker": {
             "colorbar": {
              "outlinewidth": 0,
              "ticks": ""
             }
            },
            "type": "scattergl"
           }
          ],
          "scattermapbox": [
           {
            "marker": {
             "colorbar": {
              "outlinewidth": 0,
              "ticks": ""
             }
            },
            "type": "scattermapbox"
           }
          ],
          "scatterpolar": [
           {
            "marker": {
             "colorbar": {
              "outlinewidth": 0,
              "ticks": ""
             }
            },
            "type": "scatterpolar"
           }
          ],
          "scatterpolargl": [
           {
            "marker": {
             "colorbar": {
              "outlinewidth": 0,
              "ticks": ""
             }
            },
            "type": "scatterpolargl"
           }
          ],
          "scatterternary": [
           {
            "marker": {
             "colorbar": {
              "outlinewidth": 0,
              "ticks": ""
             }
            },
            "type": "scatterternary"
           }
          ],
          "surface": [
           {
            "colorbar": {
             "outlinewidth": 0,
             "ticks": ""
            },
            "colorscale": [
             [
              0,
              "#0d0887"
             ],
             [
              0.1111111111111111,
              "#46039f"
             ],
             [
              0.2222222222222222,
              "#7201a8"
             ],
             [
              0.3333333333333333,
              "#9c179e"
             ],
             [
              0.4444444444444444,
              "#bd3786"
             ],
             [
              0.5555555555555556,
              "#d8576b"
             ],
             [
              0.6666666666666666,
              "#ed7953"
             ],
             [
              0.7777777777777778,
              "#fb9f3a"
             ],
             [
              0.8888888888888888,
              "#fdca26"
             ],
             [
              1,
              "#f0f921"
             ]
            ],
            "type": "surface"
           }
          ],
          "table": [
           {
            "cells": {
             "fill": {
              "color": "#EBF0F8"
             },
             "line": {
              "color": "white"
             }
            },
            "header": {
             "fill": {
              "color": "#C8D4E3"
             },
             "line": {
              "color": "white"
             }
            },
            "type": "table"
           }
          ]
         },
         "layout": {
          "annotationdefaults": {
           "arrowcolor": "#2a3f5f",
           "arrowhead": 0,
           "arrowwidth": 1
          },
          "autotypenumbers": "strict",
          "coloraxis": {
           "colorbar": {
            "outlinewidth": 0,
            "ticks": ""
           }
          },
          "colorscale": {
           "diverging": [
            [
             0,
             "#8e0152"
            ],
            [
             0.1,
             "#c51b7d"
            ],
            [
             0.2,
             "#de77ae"
            ],
            [
             0.3,
             "#f1b6da"
            ],
            [
             0.4,
             "#fde0ef"
            ],
            [
             0.5,
             "#f7f7f7"
            ],
            [
             0.6,
             "#e6f5d0"
            ],
            [
             0.7,
             "#b8e186"
            ],
            [
             0.8,
             "#7fbc41"
            ],
            [
             0.9,
             "#4d9221"
            ],
            [
             1,
             "#276419"
            ]
           ],
           "sequential": [
            [
             0,
             "#0d0887"
            ],
            [
             0.1111111111111111,
             "#46039f"
            ],
            [
             0.2222222222222222,
             "#7201a8"
            ],
            [
             0.3333333333333333,
             "#9c179e"
            ],
            [
             0.4444444444444444,
             "#bd3786"
            ],
            [
             0.5555555555555556,
             "#d8576b"
            ],
            [
             0.6666666666666666,
             "#ed7953"
            ],
            [
             0.7777777777777778,
             "#fb9f3a"
            ],
            [
             0.8888888888888888,
             "#fdca26"
            ],
            [
             1,
             "#f0f921"
            ]
           ],
           "sequentialminus": [
            [
             0,
             "#0d0887"
            ],
            [
             0.1111111111111111,
             "#46039f"
            ],
            [
             0.2222222222222222,
             "#7201a8"
            ],
            [
             0.3333333333333333,
             "#9c179e"
            ],
            [
             0.4444444444444444,
             "#bd3786"
            ],
            [
             0.5555555555555556,
             "#d8576b"
            ],
            [
             0.6666666666666666,
             "#ed7953"
            ],
            [
             0.7777777777777778,
             "#fb9f3a"
            ],
            [
             0.8888888888888888,
             "#fdca26"
            ],
            [
             1,
             "#f0f921"
            ]
           ]
          },
          "colorway": [
           "#636efa",
           "#EF553B",
           "#00cc96",
           "#ab63fa",
           "#FFA15A",
           "#19d3f3",
           "#FF6692",
           "#B6E880",
           "#FF97FF",
           "#FECB52"
          ],
          "font": {
           "color": "#2a3f5f"
          },
          "geo": {
           "bgcolor": "white",
           "lakecolor": "white",
           "landcolor": "#E5ECF6",
           "showlakes": true,
           "showland": true,
           "subunitcolor": "white"
          },
          "hoverlabel": {
           "align": "left"
          },
          "hovermode": "closest",
          "mapbox": {
           "style": "light"
          },
          "paper_bgcolor": "white",
          "plot_bgcolor": "#E5ECF6",
          "polar": {
           "angularaxis": {
            "gridcolor": "white",
            "linecolor": "white",
            "ticks": ""
           },
           "bgcolor": "#E5ECF6",
           "radialaxis": {
            "gridcolor": "white",
            "linecolor": "white",
            "ticks": ""
           }
          },
          "scene": {
           "xaxis": {
            "backgroundcolor": "#E5ECF6",
            "gridcolor": "white",
            "gridwidth": 2,
            "linecolor": "white",
            "showbackground": true,
            "ticks": "",
            "zerolinecolor": "white"
           },
           "yaxis": {
            "backgroundcolor": "#E5ECF6",
            "gridcolor": "white",
            "gridwidth": 2,
            "linecolor": "white",
            "showbackground": true,
            "ticks": "",
            "zerolinecolor": "white"
           },
           "zaxis": {
            "backgroundcolor": "#E5ECF6",
            "gridcolor": "white",
            "gridwidth": 2,
            "linecolor": "white",
            "showbackground": true,
            "ticks": "",
            "zerolinecolor": "white"
           }
          },
          "shapedefaults": {
           "line": {
            "color": "#2a3f5f"
           }
          },
          "ternary": {
           "aaxis": {
            "gridcolor": "white",
            "linecolor": "white",
            "ticks": ""
           },
           "baxis": {
            "gridcolor": "white",
            "linecolor": "white",
            "ticks": ""
           },
           "bgcolor": "#E5ECF6",
           "caxis": {
            "gridcolor": "white",
            "linecolor": "white",
            "ticks": ""
           }
          },
          "title": {
           "x": 0.05
          },
          "xaxis": {
           "automargin": true,
           "gridcolor": "white",
           "linecolor": "white",
           "ticks": "",
           "title": {
            "standoff": 15
           },
           "zerolinecolor": "white",
           "zerolinewidth": 2
          },
          "yaxis": {
           "automargin": true,
           "gridcolor": "white",
           "linecolor": "white",
           "ticks": "",
           "title": {
            "standoff": 15
           },
           "zerolinecolor": "white",
           "zerolinewidth": 2
          }
         }
        },
        "title": {
         "text": "Old Model average exemplar means over time (averaged per 200 iterations)"
        },
        "width": 1500,
        "xaxis": {
         "title": {
          "text": "Iteration"
         }
        },
        "yaxis": {
         "title": {
          "text": "Mean"
         }
        }
       }
      },
      "text/html": [
       "<div>                            <div id=\"5d127956-94b9-4463-9282-028694c44eb0\" class=\"plotly-graph-div\" style=\"height:525px; width:1500px;\"></div>            <script type=\"text/javascript\">                require([\"plotly\"], function(Plotly) {                    window.PLOTLYENV=window.PLOTLYENV || {};                                    if (document.getElementById(\"5d127956-94b9-4463-9282-028694c44eb0\")) {                    Plotly.newPlot(                        \"5d127956-94b9-4463-9282-028694c44eb0\",                        [{\"marker\":{\"color\":\"blue\",\"size\":5},\"mode\":\"markers\",\"name\":\"Low Frequency (1-6) Words\",\"x\":[\"0-200\",\"200-400\",\"400-600\",\"600-800\",\"800-1000\",\"1000-1200\",\"1200-1400\",\"1400-1600\",\"1600-1800\",\"1800-2000\",\"2000-2200\",\"2200-2400\",\"2400-2600\",\"2600-2800\",\"2800-3000\",\"3000-3200\",\"3200-3400\",\"3400-3600\",\"3600-3800\",\"3800-4000\",\"4000-4200\",\"4200-4400\",\"4400-4600\",\"4600-4800\",\"4800-5000\",\"5000-5200\",\"5200-5400\",\"5400-5600\",\"5600-5800\",\"5800-6000\",\"6000-6200\",\"6200-6400\",\"6400-6600\",\"6600-6800\",\"6800-7000\",\"7000-7200\",\"7200-7400\",\"7400-7600\",\"7600-7800\",\"7800-8000\",\"8000-8200\",\"8200-8400\",\"8400-8600\",\"8600-8800\",\"8800-9000\",\"9000-9200\",\"9200-9400\",\"9400-9600\",\"9600-9800\",\"9800-10000\"],\"y\":[-0.04305769459137329,-0.011780879561285217,-0.015560324889814695,-0.01955288040926179,-0.021510696064951696,0.007907183235889171,0.014988321189157215,0.004447658555530734,0.02913552551149837,0.03373255549993031,0.044170272596201834,0.06770375460078708,0.05419334293590595,0.10318662517258557,0.08072386456420762,0.05283907656077053,0.07725002800566601,0.07902027328755871,0.09961693075084133,0.12585413307493876,0.1481638154941519,0.16004688208739395,0.13687464422136053,0.11498647025175306,0.18423300902771164,0.17101434669862958,0.18850743199791942,0.16800524613823012,0.23423885578077183,0.22558142421539282,0.2240222664855922,0.25350853243218235,0.27017479951172807,0.26860365324903607,0.27500570422107873,0.3041601999422456,0.3529139149957543,0.32883438933265624,0.28579138089899225,0.33331857217248,0.37168047295233714,0.35973491317771755,0.413565440871571,0.3618234188743871,0.40901164699068376,0.4789579741264156,0.48074854345753226,0.5050647578531219,0.42181819036502005,0.4867044126198189],\"type\":\"scatter\"},{\"marker\":{\"color\":\"red\",\"size\":5},\"mode\":\"markers\",\"name\":\"High Frequency (7-12) Words\",\"x\":[\"0-200\",\"200-400\",\"400-600\",\"600-800\",\"800-1000\",\"1000-1200\",\"1200-1400\",\"1400-1600\",\"1600-1800\",\"1800-2000\",\"2000-2200\",\"2200-2400\",\"2400-2600\",\"2600-2800\",\"2800-3000\",\"3000-3200\",\"3200-3400\",\"3400-3600\",\"3600-3800\",\"3800-4000\",\"4000-4200\",\"4200-4400\",\"4400-4600\",\"4600-4800\",\"4800-5000\",\"5000-5200\",\"5200-5400\",\"5400-5600\",\"5600-5800\",\"5800-6000\",\"6000-6200\",\"6200-6400\",\"6400-6600\",\"6600-6800\",\"6800-7000\",\"7000-7200\",\"7200-7400\",\"7400-7600\",\"7600-7800\",\"7800-8000\",\"8000-8200\",\"8200-8400\",\"8400-8600\",\"8600-8800\",\"8800-9000\",\"9000-9200\",\"9200-9400\",\"9400-9600\",\"9600-9800\",\"9800-10000\"],\"y\":[-0.0005071773076269257,0.00592268564341536,0.02063822636611949,0.010943763217030006,0.004443515949185891,0.01755653814850309,0.04334363737249661,0.022040274885373794,0.045685761788731544,0.04784431462927815,0.08947525897437304,0.057406366838011064,0.0654990166372487,0.06787451135375497,0.10016632250154743,0.12606707073341206,0.09480030385120884,0.08659148934229774,0.12885296203531094,0.12710277735313708,0.13756706448323908,0.14559526694150893,0.1695535438706943,0.1710316065211267,0.17662476022082266,0.1879564955517209,0.22497827510190302,0.2269954472894243,0.22754435030299697,0.21701506315219202,0.2793211251240846,0.263055554292256,0.24842689834320844,0.29219404370161906,0.30606058257275864,0.3150730307917323,0.33591074572939256,0.3617074002563564,0.3508256142978569,0.3660049498260259,0.3798018223245709,0.3961463676232349,0.40505269911480346,0.42007205041327444,0.4435556314420448,0.4460804192327872,0.48189335865821853,0.47664222421547947,0.47185157076595535,0.5313742169525458],\"type\":\"scatter\"},{\"line\":{\"color\":\"blue\"},\"mode\":\"lines\",\"name\":\"Regression (1-6)\",\"x\":[\"0-200\",\"200-400\",\"400-600\",\"600-800\",\"800-1000\",\"1000-1200\",\"1200-1400\",\"1400-1600\",\"1600-1800\",\"1800-2000\",\"2000-2200\",\"2200-2400\",\"2400-2600\",\"2600-2800\",\"2800-3000\",\"3000-3200\",\"3200-3400\",\"3400-3600\",\"3600-3800\",\"3800-4000\",\"4000-4200\",\"4200-4400\",\"4400-4600\",\"4600-4800\",\"4800-5000\",\"5000-5200\",\"5200-5400\",\"5400-5600\",\"5600-5800\",\"5800-6000\",\"6000-6200\",\"6200-6400\",\"6400-6600\",\"6600-6800\",\"6800-7000\",\"7000-7200\",\"7200-7400\",\"7400-7600\",\"7600-7800\",\"7800-8000\",\"8000-8200\",\"8200-8400\",\"8400-8600\",\"8600-8800\",\"8800-9000\",\"9000-9200\",\"9200-9400\",\"9400-9600\",\"9600-9800\",\"9800-10000\"],\"y\":[-0.06822216887781904,-0.057535221266097086,-0.046848273654375126,-0.036161326042653166,-0.025474378430931213,-0.014787430819209253,-0.004100483207487293,0.00658646440423466,0.017273412015956613,0.027960359627678566,0.03864730723940053,0.049334254851122486,0.06002120246284445,0.0707081500745664,0.08139509768628836,0.09208204529801031,0.10276899290973227,0.11345594052145422,0.12414288813317617,0.13482983574489812,0.1455167833566201,0.15620373096834206,0.166890678580064,0.17757762619178596,0.18826457380350795,0.1989515214152299,0.20963846902695185,0.2203254166386738,0.23101236425039576,0.2416993118621177,0.25238625947383964,0.2630732070855616,0.27376015469728354,0.2844471023090055,0.29513404992072745,0.3058209975324494,0.31650794514417135,0.3271948927558933,0.33788184036761526,0.3485687879793373,0.3592557355910593,0.36994268320278123,0.3806296308145032,0.39131657842622514,0.4020035260379471,0.41269047364966904,0.423377421261391,0.43406436887311295,0.4447513164848349,0.45543826409655686],\"type\":\"scatter\"},{\"line\":{\"color\":\"red\"},\"mode\":\"lines\",\"name\":\"Regression (7-12)\",\"x\":[\"0-200\",\"200-400\",\"400-600\",\"600-800\",\"800-1000\",\"1000-1200\",\"1200-1400\",\"1400-1600\",\"1600-1800\",\"1800-2000\",\"2000-2200\",\"2200-2400\",\"2400-2600\",\"2600-2800\",\"2800-3000\",\"3000-3200\",\"3200-3400\",\"3400-3600\",\"3600-3800\",\"3800-4000\",\"4000-4200\",\"4200-4400\",\"4400-4600\",\"4600-4800\",\"4800-5000\",\"5000-5200\",\"5200-5400\",\"5400-5600\",\"5600-5800\",\"5800-6000\",\"6000-6200\",\"6200-6400\",\"6400-6600\",\"6600-6800\",\"6800-7000\",\"7000-7200\",\"7200-7400\",\"7400-7600\",\"7600-7800\",\"7800-8000\",\"8000-8200\",\"8200-8400\",\"8400-8600\",\"8600-8800\",\"8800-9000\",\"9000-9200\",\"9200-9400\",\"9400-9600\",\"9600-9800\",\"9800-10000\"],\"y\":[-0.04770464321698391,-0.03709003753512608,-0.02647543185326826,-0.01586082617141043,-0.00524622048955261,0.005368385192305217,0.01598299087416305,0.02659759655602087,0.03721220223787869,0.04782680791973652,0.05844141360159434,0.06905601928345217,0.07967062496531001,0.09028523064716783,0.10089983632902565,0.11151444201088347,0.12212904769274129,0.13274365337459915,0.14335825905645694,0.15397286473831479,0.16458747042017258,0.17520207610203042,0.18581668178388827,0.19643128746574606,0.2070458931476039,0.2176604988294617,0.22827510451131955,0.23888971019317734,0.2495043158750352,0.26011892155689303,0.2707335272387508,0.2813481329206087,0.29196273860246647,0.3025773442843243,0.31319194996618216,0.32380655564803995,0.3344211613298978,0.34503576701175565,0.35565037269361344,0.3662649783754713,0.3768795840573291,0.3874941897391869,0.39810879542104477,0.40872340110290256,0.4193380067847604,0.4299526124666182,0.44056721814847605,0.4511818238303339,0.46179642951219174,0.47241103519404953],\"type\":\"scatter\"},{\"line\":{\"color\":\"black\"},\"mode\":\"lines\",\"name\":\"Difference Regression\",\"x\":[\"0-200\",\"200-400\",\"400-600\",\"600-800\",\"800-1000\",\"1000-1200\",\"1200-1400\",\"1400-1600\",\"1600-1800\",\"1800-2000\",\"2000-2200\",\"2200-2400\",\"2400-2600\",\"2600-2800\",\"2800-3000\",\"3000-3200\",\"3200-3400\",\"3400-3600\",\"3600-3800\",\"3800-4000\",\"4000-4200\",\"4200-4400\",\"4400-4600\",\"4600-4800\",\"4800-5000\",\"5000-5200\",\"5200-5400\",\"5400-5600\",\"5600-5800\",\"5800-6000\",\"6000-6200\",\"6200-6400\",\"6400-6600\",\"6600-6800\",\"6800-7000\",\"7000-7200\",\"7200-7400\",\"7400-7600\",\"7600-7800\",\"7800-8000\",\"8000-8200\",\"8200-8400\",\"8400-8600\",\"8600-8800\",\"8800-9000\",\"9000-9200\",\"9200-9400\",\"9400-9600\",\"9600-9800\",\"9800-10000\"],\"y\":[0.02051752566083512,0.020445183730970987,0.020372841801106857,0.020300499871242723,0.020228157941378593,0.02015581601151446,0.02008347408165033,0.020011132151786196,0.019938790221922065,0.019866448292057932,0.0197941063621938,0.019721764432329668,0.019649422502465538,0.019577080572601404,0.019504738642737274,0.01943239671287314,0.01936005478300901,0.019287712853144876,0.019215370923280746,0.019143028993416612,0.01907068706355248,0.01899834513368835,0.018926003203824215,0.018853661273960085,0.01878131934409595,0.01870897741423182,0.018636635484367687,0.018564293554503557,0.018491951624639423,0.018419609694775293,0.01834726776491116,0.01827492583504703,0.018202583905182895,0.01813024197531876,0.01805790004545463,0.0179855581155905,0.017913216185726367,0.017840874255862234,0.017768532325998104,0.01769619039613397,0.01762384846626984,0.017551506536405706,0.017479164606541576,0.017406822676677442,0.017334480746813312,0.017262138816949178,0.017189796887085048,0.017117454957220914,0.017045113027356784,0.01697277109749265],\"type\":\"scatter\"}],                        {\"template\":{\"data\":{\"histogram2dcontour\":[{\"type\":\"histogram2dcontour\",\"colorbar\":{\"outlinewidth\":0,\"ticks\":\"\"},\"colorscale\":[[0.0,\"#0d0887\"],[0.1111111111111111,\"#46039f\"],[0.2222222222222222,\"#7201a8\"],[0.3333333333333333,\"#9c179e\"],[0.4444444444444444,\"#bd3786\"],[0.5555555555555556,\"#d8576b\"],[0.6666666666666666,\"#ed7953\"],[0.7777777777777778,\"#fb9f3a\"],[0.8888888888888888,\"#fdca26\"],[1.0,\"#f0f921\"]]}],\"choropleth\":[{\"type\":\"choropleth\",\"colorbar\":{\"outlinewidth\":0,\"ticks\":\"\"}}],\"histogram2d\":[{\"type\":\"histogram2d\",\"colorbar\":{\"outlinewidth\":0,\"ticks\":\"\"},\"colorscale\":[[0.0,\"#0d0887\"],[0.1111111111111111,\"#46039f\"],[0.2222222222222222,\"#7201a8\"],[0.3333333333333333,\"#9c179e\"],[0.4444444444444444,\"#bd3786\"],[0.5555555555555556,\"#d8576b\"],[0.6666666666666666,\"#ed7953\"],[0.7777777777777778,\"#fb9f3a\"],[0.8888888888888888,\"#fdca26\"],[1.0,\"#f0f921\"]]}],\"heatmap\":[{\"type\":\"heatmap\",\"colorbar\":{\"outlinewidth\":0,\"ticks\":\"\"},\"colorscale\":[[0.0,\"#0d0887\"],[0.1111111111111111,\"#46039f\"],[0.2222222222222222,\"#7201a8\"],[0.3333333333333333,\"#9c179e\"],[0.4444444444444444,\"#bd3786\"],[0.5555555555555556,\"#d8576b\"],[0.6666666666666666,\"#ed7953\"],[0.7777777777777778,\"#fb9f3a\"],[0.8888888888888888,\"#fdca26\"],[1.0,\"#f0f921\"]]}],\"heatmapgl\":[{\"type\":\"heatmapgl\",\"colorbar\":{\"outlinewidth\":0,\"ticks\":\"\"},\"colorscale\":[[0.0,\"#0d0887\"],[0.1111111111111111,\"#46039f\"],[0.2222222222222222,\"#7201a8\"],[0.3333333333333333,\"#9c179e\"],[0.4444444444444444,\"#bd3786\"],[0.5555555555555556,\"#d8576b\"],[0.6666666666666666,\"#ed7953\"],[0.7777777777777778,\"#fb9f3a\"],[0.8888888888888888,\"#fdca26\"],[1.0,\"#f0f921\"]]}],\"contourcarpet\":[{\"type\":\"contourcarpet\",\"colorbar\":{\"outlinewidth\":0,\"ticks\":\"\"}}],\"contour\":[{\"type\":\"contour\",\"colorbar\":{\"outlinewidth\":0,\"ticks\":\"\"},\"colorscale\":[[0.0,\"#0d0887\"],[0.1111111111111111,\"#46039f\"],[0.2222222222222222,\"#7201a8\"],[0.3333333333333333,\"#9c179e\"],[0.4444444444444444,\"#bd3786\"],[0.5555555555555556,\"#d8576b\"],[0.6666666666666666,\"#ed7953\"],[0.7777777777777778,\"#fb9f3a\"],[0.8888888888888888,\"#fdca26\"],[1.0,\"#f0f921\"]]}],\"surface\":[{\"type\":\"surface\",\"colorbar\":{\"outlinewidth\":0,\"ticks\":\"\"},\"colorscale\":[[0.0,\"#0d0887\"],[0.1111111111111111,\"#46039f\"],[0.2222222222222222,\"#7201a8\"],[0.3333333333333333,\"#9c179e\"],[0.4444444444444444,\"#bd3786\"],[0.5555555555555556,\"#d8576b\"],[0.6666666666666666,\"#ed7953\"],[0.7777777777777778,\"#fb9f3a\"],[0.8888888888888888,\"#fdca26\"],[1.0,\"#f0f921\"]]}],\"mesh3d\":[{\"type\":\"mesh3d\",\"colorbar\":{\"outlinewidth\":0,\"ticks\":\"\"}}],\"scatter\":[{\"fillpattern\":{\"fillmode\":\"overlay\",\"size\":10,\"solidity\":0.2},\"type\":\"scatter\"}],\"parcoords\":[{\"type\":\"parcoords\",\"line\":{\"colorbar\":{\"outlinewidth\":0,\"ticks\":\"\"}}}],\"scatterpolargl\":[{\"type\":\"scatterpolargl\",\"marker\":{\"colorbar\":{\"outlinewidth\":0,\"ticks\":\"\"}}}],\"bar\":[{\"error_x\":{\"color\":\"#2a3f5f\"},\"error_y\":{\"color\":\"#2a3f5f\"},\"marker\":{\"line\":{\"color\":\"#E5ECF6\",\"width\":0.5},\"pattern\":{\"fillmode\":\"overlay\",\"size\":10,\"solidity\":0.2}},\"type\":\"bar\"}],\"scattergeo\":[{\"type\":\"scattergeo\",\"marker\":{\"colorbar\":{\"outlinewidth\":0,\"ticks\":\"\"}}}],\"scatterpolar\":[{\"type\":\"scatterpolar\",\"marker\":{\"colorbar\":{\"outlinewidth\":0,\"ticks\":\"\"}}}],\"histogram\":[{\"marker\":{\"pattern\":{\"fillmode\":\"overlay\",\"size\":10,\"solidity\":0.2}},\"type\":\"histogram\"}],\"scattergl\":[{\"type\":\"scattergl\",\"marker\":{\"colorbar\":{\"outlinewidth\":0,\"ticks\":\"\"}}}],\"scatter3d\":[{\"type\":\"scatter3d\",\"line\":{\"colorbar\":{\"outlinewidth\":0,\"ticks\":\"\"}},\"marker\":{\"colorbar\":{\"outlinewidth\":0,\"ticks\":\"\"}}}],\"scattermapbox\":[{\"type\":\"scattermapbox\",\"marker\":{\"colorbar\":{\"outlinewidth\":0,\"ticks\":\"\"}}}],\"scatterternary\":[{\"type\":\"scatterternary\",\"marker\":{\"colorbar\":{\"outlinewidth\":0,\"ticks\":\"\"}}}],\"scattercarpet\":[{\"type\":\"scattercarpet\",\"marker\":{\"colorbar\":{\"outlinewidth\":0,\"ticks\":\"\"}}}],\"carpet\":[{\"aaxis\":{\"endlinecolor\":\"#2a3f5f\",\"gridcolor\":\"white\",\"linecolor\":\"white\",\"minorgridcolor\":\"white\",\"startlinecolor\":\"#2a3f5f\"},\"baxis\":{\"endlinecolor\":\"#2a3f5f\",\"gridcolor\":\"white\",\"linecolor\":\"white\",\"minorgridcolor\":\"white\",\"startlinecolor\":\"#2a3f5f\"},\"type\":\"carpet\"}],\"table\":[{\"cells\":{\"fill\":{\"color\":\"#EBF0F8\"},\"line\":{\"color\":\"white\"}},\"header\":{\"fill\":{\"color\":\"#C8D4E3\"},\"line\":{\"color\":\"white\"}},\"type\":\"table\"}],\"barpolar\":[{\"marker\":{\"line\":{\"color\":\"#E5ECF6\",\"width\":0.5},\"pattern\":{\"fillmode\":\"overlay\",\"size\":10,\"solidity\":0.2}},\"type\":\"barpolar\"}],\"pie\":[{\"automargin\":true,\"type\":\"pie\"}]},\"layout\":{\"autotypenumbers\":\"strict\",\"colorway\":[\"#636efa\",\"#EF553B\",\"#00cc96\",\"#ab63fa\",\"#FFA15A\",\"#19d3f3\",\"#FF6692\",\"#B6E880\",\"#FF97FF\",\"#FECB52\"],\"font\":{\"color\":\"#2a3f5f\"},\"hovermode\":\"closest\",\"hoverlabel\":{\"align\":\"left\"},\"paper_bgcolor\":\"white\",\"plot_bgcolor\":\"#E5ECF6\",\"polar\":{\"bgcolor\":\"#E5ECF6\",\"angularaxis\":{\"gridcolor\":\"white\",\"linecolor\":\"white\",\"ticks\":\"\"},\"radialaxis\":{\"gridcolor\":\"white\",\"linecolor\":\"white\",\"ticks\":\"\"}},\"ternary\":{\"bgcolor\":\"#E5ECF6\",\"aaxis\":{\"gridcolor\":\"white\",\"linecolor\":\"white\",\"ticks\":\"\"},\"baxis\":{\"gridcolor\":\"white\",\"linecolor\":\"white\",\"ticks\":\"\"},\"caxis\":{\"gridcolor\":\"white\",\"linecolor\":\"white\",\"ticks\":\"\"}},\"coloraxis\":{\"colorbar\":{\"outlinewidth\":0,\"ticks\":\"\"}},\"colorscale\":{\"sequential\":[[0.0,\"#0d0887\"],[0.1111111111111111,\"#46039f\"],[0.2222222222222222,\"#7201a8\"],[0.3333333333333333,\"#9c179e\"],[0.4444444444444444,\"#bd3786\"],[0.5555555555555556,\"#d8576b\"],[0.6666666666666666,\"#ed7953\"],[0.7777777777777778,\"#fb9f3a\"],[0.8888888888888888,\"#fdca26\"],[1.0,\"#f0f921\"]],\"sequentialminus\":[[0.0,\"#0d0887\"],[0.1111111111111111,\"#46039f\"],[0.2222222222222222,\"#7201a8\"],[0.3333333333333333,\"#9c179e\"],[0.4444444444444444,\"#bd3786\"],[0.5555555555555556,\"#d8576b\"],[0.6666666666666666,\"#ed7953\"],[0.7777777777777778,\"#fb9f3a\"],[0.8888888888888888,\"#fdca26\"],[1.0,\"#f0f921\"]],\"diverging\":[[0,\"#8e0152\"],[0.1,\"#c51b7d\"],[0.2,\"#de77ae\"],[0.3,\"#f1b6da\"],[0.4,\"#fde0ef\"],[0.5,\"#f7f7f7\"],[0.6,\"#e6f5d0\"],[0.7,\"#b8e186\"],[0.8,\"#7fbc41\"],[0.9,\"#4d9221\"],[1,\"#276419\"]]},\"xaxis\":{\"gridcolor\":\"white\",\"linecolor\":\"white\",\"ticks\":\"\",\"title\":{\"standoff\":15},\"zerolinecolor\":\"white\",\"automargin\":true,\"zerolinewidth\":2},\"yaxis\":{\"gridcolor\":\"white\",\"linecolor\":\"white\",\"ticks\":\"\",\"title\":{\"standoff\":15},\"zerolinecolor\":\"white\",\"automargin\":true,\"zerolinewidth\":2},\"scene\":{\"xaxis\":{\"backgroundcolor\":\"#E5ECF6\",\"gridcolor\":\"white\",\"linecolor\":\"white\",\"showbackground\":true,\"ticks\":\"\",\"zerolinecolor\":\"white\",\"gridwidth\":2},\"yaxis\":{\"backgroundcolor\":\"#E5ECF6\",\"gridcolor\":\"white\",\"linecolor\":\"white\",\"showbackground\":true,\"ticks\":\"\",\"zerolinecolor\":\"white\",\"gridwidth\":2},\"zaxis\":{\"backgroundcolor\":\"#E5ECF6\",\"gridcolor\":\"white\",\"linecolor\":\"white\",\"showbackground\":true,\"ticks\":\"\",\"zerolinecolor\":\"white\",\"gridwidth\":2}},\"shapedefaults\":{\"line\":{\"color\":\"#2a3f5f\"}},\"annotationdefaults\":{\"arrowcolor\":\"#2a3f5f\",\"arrowhead\":0,\"arrowwidth\":1},\"geo\":{\"bgcolor\":\"white\",\"landcolor\":\"#E5ECF6\",\"subunitcolor\":\"white\",\"showland\":true,\"showlakes\":true,\"lakecolor\":\"white\"},\"title\":{\"x\":0.05},\"mapbox\":{\"style\":\"light\"}}},\"font\":{\"family\":\"Arial\",\"size\":12,\"color\":\"Black\"},\"title\":{\"text\":\"Old Model average exemplar means over time (averaged per 200 iterations)\"},\"xaxis\":{\"title\":{\"text\":\"Iteration\"}},\"yaxis\":{\"title\":{\"text\":\"Mean\"}},\"plot_bgcolor\":\"rgba(0,0,0,0)\",\"width\":1500},                        {\"responsive\": true}                    ).then(function(){\n",
       "                            \n",
       "var gd = document.getElementById('5d127956-94b9-4463-9282-028694c44eb0');\n",
       "var x = new MutationObserver(function (mutations, observer) {{\n",
       "        var display = window.getComputedStyle(gd).display;\n",
       "        if (!display || display === 'none') {{\n",
       "            console.log([gd, 'removed!']);\n",
       "            Plotly.purge(gd);\n",
       "            observer.disconnect();\n",
       "        }}\n",
       "}});\n",
       "\n",
       "// Listen for the removal of the full notebook cells\n",
       "var notebookContainer = gd.closest('#notebook-container');\n",
       "if (notebookContainer) {{\n",
       "    x.observe(notebookContainer, {childList: true});\n",
       "}}\n",
       "\n",
       "// Listen for the clearing of the current output cell\n",
       "var outputEl = gd.closest('.output');\n",
       "if (outputEl) {{\n",
       "    x.observe(outputEl, {childList: true});\n",
       "}}\n",
       "\n",
       "                        })                };                });            </script>        </div>"
      ]
     },
     "metadata": {},
     "output_type": "display_data"
    }
   ],
   "source": [
    "plots(10)"
   ]
  }
 ],
 "metadata": {
  "kernelspec": {
   "display_name": "Python 3 (ipykernel)",
   "language": "python",
   "name": "python3"
  },
  "language_info": {
   "codemirror_mode": {
    "name": "ipython",
    "version": 3
   },
   "file_extension": ".py",
   "mimetype": "text/x-python",
   "name": "python",
   "nbconvert_exporter": "python",
   "pygments_lexer": "ipython3",
   "version": "3.9.13"
  }
 },
 "nbformat": 4,
 "nbformat_minor": 5
}
