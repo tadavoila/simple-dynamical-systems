{
 "cells": [
  {
   "cell_type": "code",
   "execution_count": 1,
   "id": "2356c59e",
   "metadata": {},
   "outputs": [],
   "source": [
    "import plotly.express as px\n",
    "import plotly.graph_objects as go\n",
    "import pandas as pd\n",
    "import numpy as np"
   ]
  },
  {
   "cell_type": "code",
   "execution_count": 29,
   "id": "88aedd0d",
   "metadata": {},
   "outputs": [],
   "source": [
    "def database(runs):    \n",
    "    # Initialize lists to store dataframes for each group\n",
    "    dfs_1_6 = []\n",
    "    dfs_7_12 = []\n",
    "    \n",
    "    for a in range(1, runs+1):\n",
    "        means_1_6_path = 'Outputs/Old/old_means_1_6_r' + str(a) + '.json'\n",
    "        means_7_12_path = 'Outputs/Old/old_means_7_12_r' + str(a) + '.json'\n",
    "        \n",
    "        means_1_6 = pd.read_json(means_1_6_path, typ='series').to_frame(name=f'Mean{a}')\n",
    "        means_7_12 = pd.read_json(means_7_12_path, typ='series').to_frame(name=f'Mean{a}')\n",
    "        \n",
    "        means_1_6[f'Iteration{a}'] = (means_1_6.index + 1).astype(float)\n",
    "        means_7_12[f'Iteration{a}'] = (means_7_12.index + 1).astype(float)\n",
    "        \n",
    "        # Append the dataframes to their respective lists\n",
    "        dfs_1_6.append(means_1_6)\n",
    "        dfs_7_12.append(means_7_12)\n",
    "    \n",
    "    # Concatenate the dataframes side by side for each group\n",
    "    df_1_6 = pd.concat(dfs_1_6, axis=1)\n",
    "    df_7_12 = pd.concat(dfs_7_12, axis=1)\n",
    "    \n",
    "    return df_1_6, df_7_12\n",
    "\n",
    "def plots(runs):\n",
    "    df_1_6, df_7_12 = database(runs)\n",
    "    \n",
    "    # Calculate the average mean for each group of iterations\n",
    "    df_1_6['AvgMean'] = df_1_6.filter(like='Mean').mean(axis=1)\n",
    "    df_7_12['AvgMean'] = df_7_12.filter(like='Mean').mean(axis=1)\n",
    "    \n",
    "    # Group by iterations per 200 and calculate the mean for each group\n",
    "    grouped_1_6 = df_1_6.groupby((df_1_6.index // 200) * 200)['AvgMean'].mean()\n",
    "    grouped_7_12 = df_7_12.groupby((df_7_12.index // 200) * 200)['AvgMean'].mean()\n",
    "    \n",
    "    # Calculate bin edges for x-axis labels based on the maximum iteration\n",
    "    max_iteration = max(grouped_1_6.index.max(), grouped_7_12.index.max())\n",
    "    bin_edges = [(i, i+200) for i in range(0, max_iteration+1, 200)]\n",
    "    bin_labels = [f'{edge[0]}-{edge[1]}' for edge in bin_edges]\n",
    "    \n",
    "    # Scatter plot for the 'grouped_1_6' DataFrame with blue dots\n",
    "    fig = go.Figure(data=go.Scatter(x=bin_labels,\n",
    "                                    y=grouped_1_6,\n",
    "                                    mode='markers',\n",
    "                                    marker=dict(color='blue', size=5),\n",
    "                                    name='Low Frequency (1-6) Words'))\n",
    "\n",
    "    # Scatter plot for the 'grouped_7_12' DataFrame with red dots\n",
    "    fig.add_trace(go.Scatter(x=bin_labels,\n",
    "                             y=grouped_7_12,\n",
    "                             mode='markers',\n",
    "                             marker=dict(color='red', size=5),\n",
    "                             name='High Frequency (7-12) Words'))\n",
    "\n",
    "    # Linear regression for grouped_1_6\n",
    "    slope_1_6, intercept_1_6 = np.polyfit(grouped_1_6.index, grouped_1_6, 1)\n",
    "    regression_1_6 = slope_1_6 * grouped_1_6.index + intercept_1_6\n",
    "\n",
    "    # Linear regression for grouped_7_12\n",
    "    slope_7_12, intercept_7_12 = np.polyfit(grouped_7_12.index, grouped_7_12, 1)\n",
    "    regression_7_12 = slope_7_12 * grouped_7_12.index + intercept_7_12\n",
    "\n",
    "    # Regression line for grouped_1_6\n",
    "    fig.add_trace(go.Scatter(x=bin_labels,\n",
    "                             y=regression_1_6,\n",
    "                             mode='lines',\n",
    "                             line=dict(color='blue'),\n",
    "                             name='Regression (1-6)'))\n",
    "\n",
    "    # Regression line for grouped_7_12\n",
    "    fig.add_trace(go.Scatter(x=bin_labels,\n",
    "                             y=regression_7_12,\n",
    "                             mode='lines',\n",
    "                             line=dict(color='red'),\n",
    "                             name='Regression (7-12)'))\n",
    "\n",
    "    # Calculate the difference between the means of the two groups\n",
    "    difference = grouped_7_12 - grouped_1_6\n",
    "\n",
    "    # Linear regression for the difference\n",
    "    slope_diff, intercept_diff = np.polyfit(difference.index, difference, 1)\n",
    "    regression_diff = slope_diff * difference.index + intercept_diff\n",
    "\n",
    "    # Regression line for the difference\n",
    "    fig.add_trace(go.Scatter(x=bin_labels,\n",
    "                             y=regression_diff,\n",
    "                             mode='lines',\n",
    "                             line=dict(color='black'),\n",
    "                             name='Difference Regression'))\n",
    "\n",
    "    # Update the layout\n",
    "    fig.update_layout(title='Old Model average exemplar means over time (averaged per 200 iterations)', \n",
    "                      xaxis_title='Iteration', \n",
    "                      yaxis_title='Mean',\n",
    "                      plot_bgcolor='rgba(0,0,0,0)',\n",
    "                      font=dict(\n",
    "                            family=\"Arial\",\n",
    "                            size=12,\n",
    "                            color=\"Black\"\n",
    "                        ),\n",
    "                     width = 1500)\n",
    "\n",
    "    fig.show()"
   ]
  },
  {
   "cell_type": "code",
   "execution_count": 31,
   "id": "9a8ea973",
   "metadata": {},
   "outputs": [
    {
     "data": {
      "application/vnd.plotly.v1+json": {
       "config": {
        "plotlyServerURL": "https://plotly.com"
       },
       "data": [
        {
         "marker": {
          "color": "blue",
          "size": 5
         },
         "mode": "markers",
         "name": "Low Frequency (1-6) Words",
         "type": "scatter",
         "x": [
          "0-200",
          "200-400",
          "400-600",
          "600-800",
          "800-1000",
          "1000-1200",
          "1200-1400",
          "1400-1600",
          "1600-1800",
          "1800-2000",
          "2000-2200",
          "2200-2400",
          "2400-2600",
          "2600-2800",
          "2800-3000",
          "3000-3200",
          "3200-3400",
          "3400-3600",
          "3600-3800",
          "3800-4000",
          "4000-4200",
          "4200-4400",
          "4400-4600",
          "4600-4800",
          "4800-5000",
          "5000-5200",
          "5200-5400",
          "5400-5600",
          "5600-5800",
          "5800-6000",
          "6000-6200",
          "6200-6400",
          "6400-6600",
          "6600-6800",
          "6800-7000",
          "7000-7200",
          "7200-7400",
          "7400-7600",
          "7600-7800",
          "7800-8000",
          "8000-8200",
          "8200-8400",
          "8400-8600",
          "8600-8800",
          "8800-9000",
          "9000-9200",
          "9200-9400",
          "9400-9600",
          "9600-9800",
          "9800-10000"
         ],
         "y": [
          0.034813468664822815,
          0.07717952117977803,
          0.17897452672686665,
          0.16239688342037467,
          0.23013086664330507,
          0.29192840825049854,
          0.345650516483939,
          0.40102284695131307,
          0.38648461651397864,
          0.4251579914028421,
          0.4636150779431268,
          0.4765214281664955,
          0.5125589391275853,
          0.6485297414683328,
          0.6166609555191934,
          0.6124222215505749,
          0.6055416926050559,
          0.6528087850571975,
          0.7296385929000152,
          0.6915677839231265,
          0.7766729537157182,
          0.7738177029523692,
          0.702083487673124,
          0.7669513196886868,
          0.7945714555495571,
          0.8123219216010265,
          0.8098472862278243,
          0.7943065921243224,
          0.8387159553230158,
          0.8736057656850293,
          0.8842282117073197,
          0.8682651516089963,
          0.9328361752039557,
          0.9310242635593711,
          0.9200333111193093,
          0.9286948104327846,
          1.011598751569384,
          0.9848777077616533,
          1.001053386267184,
          1.0434053674537866,
          1.0399044200541385,
          0.9654473799076616,
          0.9995101293257543,
          1.0461504420625478,
          1.0675370370193016,
          1.0477013867525031,
          1.0714710889085324,
          1.0766584300963131,
          1.0543609257531599,
          1.0459830393987184
         ]
        },
        {
         "marker": {
          "color": "red",
          "size": 5
         },
         "mode": "markers",
         "name": "High Frequency (7-12) Words",
         "type": "scatter",
         "x": [
          "0-200",
          "200-400",
          "400-600",
          "600-800",
          "800-1000",
          "1000-1200",
          "1200-1400",
          "1400-1600",
          "1600-1800",
          "1800-2000",
          "2000-2200",
          "2200-2400",
          "2400-2600",
          "2600-2800",
          "2800-3000",
          "3000-3200",
          "3200-3400",
          "3400-3600",
          "3600-3800",
          "3800-4000",
          "4000-4200",
          "4200-4400",
          "4400-4600",
          "4600-4800",
          "4800-5000",
          "5000-5200",
          "5200-5400",
          "5400-5600",
          "5600-5800",
          "5800-6000",
          "6000-6200",
          "6200-6400",
          "6400-6600",
          "6600-6800",
          "6800-7000",
          "7000-7200",
          "7200-7400",
          "7400-7600",
          "7600-7800",
          "7800-8000",
          "8000-8200",
          "8200-8400",
          "8400-8600",
          "8600-8800",
          "8800-9000",
          "9000-9200",
          "9200-9400",
          "9400-9600",
          "9600-9800",
          "9800-10000"
         ],
         "y": [
          0.009761151558153873,
          0.13957143616187354,
          0.1994369020119859,
          0.31511577954670866,
          0.40850534830715163,
          0.5519275970810426,
          0.5722345938262117,
          0.7297480760963234,
          0.782791145821265,
          0.8952041523255171,
          0.9559976217407372,
          1.1089510612114382,
          1.1375219274533486,
          1.1196180442088648,
          1.1893002184755705,
          1.2706417718145162,
          1.3532701035459018,
          1.376730544155876,
          1.438613730159026,
          1.5418974086742399,
          1.496247328680719,
          1.587345377236334,
          1.6402908518547594,
          1.6837516197156353,
          1.7232229600573625,
          1.7967544352004978,
          1.8012070081287035,
          1.8476298936571385,
          1.956521455802256,
          1.9219873001136236,
          2.0525596368305465,
          2.062428014207581,
          2.0439282867627337,
          2.11930641237611,
          2.109976821429527,
          2.1705523594942058,
          2.1390108700661186,
          2.2729372092473783,
          2.387628047203232,
          2.349698245984154,
          2.3453256058245686,
          2.350235585233942,
          2.3864954442042374,
          2.384999061059825,
          2.4432892208436034,
          2.4022188637127697,
          2.4586771643171486,
          2.5097630752991504,
          2.5112665850434137,
          2.740015310546024
         ]
        },
        {
         "line": {
          "color": "blue"
         },
         "mode": "lines",
         "name": "Regression (1-6)",
         "type": "scatter",
         "x": [
          "0-200",
          "200-400",
          "400-600",
          "600-800",
          "800-1000",
          "1000-1200",
          "1200-1400",
          "1400-1600",
          "1600-1800",
          "1800-2000",
          "2000-2200",
          "2200-2400",
          "2400-2600",
          "2600-2800",
          "2800-3000",
          "3000-3200",
          "3200-3400",
          "3400-3600",
          "3600-3800",
          "3800-4000",
          "4000-4200",
          "4200-4400",
          "4400-4600",
          "4600-4800",
          "4800-5000",
          "5000-5200",
          "5200-5400",
          "5400-5600",
          "5600-5800",
          "5800-6000",
          "6000-6200",
          "6200-6400",
          "6400-6600",
          "6600-6800",
          "6800-7000",
          "7000-7200",
          "7200-7400",
          "7400-7600",
          "7600-7800",
          "7800-8000",
          "8000-8200",
          "8200-8400",
          "8400-8600",
          "8600-8800",
          "8800-9000",
          "9000-9200",
          "9200-9400",
          "9400-9600",
          "9600-9800",
          "9800-10000"
         ],
         "y": [
          0.25416856408839683,
          0.27351453348968796,
          0.2928605028909791,
          0.31220647229227017,
          0.3315524416935613,
          0.3508984110948524,
          0.37024438049614355,
          0.3895903498974347,
          0.40893631929872576,
          0.42828228870001694,
          0.447628258101308,
          0.46697422750259915,
          0.4863201969038903,
          0.5056661663051814,
          0.5250121357064725,
          0.5443581051077636,
          0.5637040745090547,
          0.5830500439103459,
          0.6023960133116371,
          0.6217419827129281,
          0.6410879521142192,
          0.6604339215155104,
          0.6797798909168015,
          0.6991258603180925,
          0.7184718297193837,
          0.7378177991206749,
          0.757163768521966,
          0.7765097379232571,
          0.7958557073245482,
          0.8152016767258393,
          0.8345476461271304,
          0.8538936155284216,
          0.8732395849297127,
          0.8925855543310038,
          0.9119315237322949,
          0.9312774931335861,
          0.9506234625348772,
          0.9699694319361682,
          0.9893154013374594,
          1.0086613707387504,
          1.0280073401400416,
          1.0473533095413328,
          1.066699278942624,
          1.0860452483439151,
          1.105391217745206,
          1.1247371871464973,
          1.1440831565477882,
          1.1634291259490794,
          1.1827750953503706,
          1.2021210647516618
         ]
        },
        {
         "line": {
          "color": "red"
         },
         "mode": "lines",
         "name": "Regression (7-12)",
         "type": "scatter",
         "x": [
          "0-200",
          "200-400",
          "400-600",
          "600-800",
          "800-1000",
          "1000-1200",
          "1200-1400",
          "1400-1600",
          "1600-1800",
          "1800-2000",
          "2000-2200",
          "2200-2400",
          "2400-2600",
          "2600-2800",
          "2800-3000",
          "3000-3200",
          "3200-3400",
          "3400-3600",
          "3600-3800",
          "3800-4000",
          "4000-4200",
          "4200-4400",
          "4400-4600",
          "4600-4800",
          "4800-5000",
          "5000-5200",
          "5200-5400",
          "5400-5600",
          "5600-5800",
          "5800-6000",
          "6000-6200",
          "6200-6400",
          "6400-6600",
          "6600-6800",
          "6800-7000",
          "7000-7200",
          "7200-7400",
          "7400-7600",
          "7600-7800",
          "7800-8000",
          "8000-8200",
          "8200-8400",
          "8400-8600",
          "8600-8800",
          "8800-9000",
          "9000-9200",
          "9200-9400",
          "9400-9600",
          "9600-9800",
          "9800-10000"
         ],
         "y": [
          0.4080824218484516,
          0.45737873823366504,
          0.5066750546188785,
          0.5559713710040919,
          0.6052676873893053,
          0.6545640037745187,
          0.7038603201597322,
          0.7531566365449456,
          0.802452952930159,
          0.8517492693153724,
          0.9010455857005859,
          0.9503419020857993,
          0.9996382184710126,
          1.0489345348562262,
          1.0982308512414396,
          1.147527167626653,
          1.1968234840118663,
          1.24611980039708,
          1.2954161167822933,
          1.3447124331675067,
          1.39400874955272,
          1.4433050659379334,
          1.492601382323147,
          1.5418976987083604,
          1.5911940150935737,
          1.640490331478787,
          1.6897866478640007,
          1.739082964249214,
          1.7883792806344274,
          1.8376755970196408,
          1.8869719134048544,
          1.9362682297900677,
          1.985564546175281,
          2.0348608625604947,
          2.0841571789457083,
          2.1334534953309214,
          2.182749811716135,
          2.232046128101348,
          2.2813424444865618,
          2.3306387608717754,
          2.3799350772569885,
          2.429231393642202,
          2.4785277100274152,
          2.527824026412629,
          2.5771203427978424,
          2.6264166591830556,
          2.675712975568269,
          2.7250092919534823,
          2.774305608338696,
          2.8236019247239095
         ]
        },
        {
         "line": {
          "color": "black"
         },
         "mode": "lines",
         "name": "Difference Regression",
         "type": "scatter",
         "x": [
          "0-200",
          "200-400",
          "400-600",
          "600-800",
          "800-1000",
          "1000-1200",
          "1200-1400",
          "1400-1600",
          "1600-1800",
          "1800-2000",
          "2000-2200",
          "2200-2400",
          "2400-2600",
          "2600-2800",
          "2800-3000",
          "3000-3200",
          "3200-3400",
          "3400-3600",
          "3600-3800",
          "3800-4000",
          "4000-4200",
          "4200-4400",
          "4400-4600",
          "4600-4800",
          "4800-5000",
          "5000-5200",
          "5200-5400",
          "5400-5600",
          "5600-5800",
          "5800-6000",
          "6000-6200",
          "6200-6400",
          "6400-6600",
          "6600-6800",
          "6800-7000",
          "7000-7200",
          "7200-7400",
          "7400-7600",
          "7600-7800",
          "7800-8000",
          "8000-8200",
          "8200-8400",
          "8400-8600",
          "8600-8800",
          "8800-9000",
          "9000-9200",
          "9200-9400",
          "9400-9600",
          "9600-9800",
          "9800-10000"
         ],
         "y": [
          0.15391385776005498,
          0.18386420474397727,
          0.21381455172789957,
          0.2437648987118219,
          0.2737152456957442,
          0.3036655926796665,
          0.33361593966358877,
          0.36356628664751106,
          0.39351663363143335,
          0.4234669806153557,
          0.453417327599278,
          0.4833676745832003,
          0.5133180215671226,
          0.5432683685510449,
          0.5732187155349672,
          0.6031690625188895,
          0.6331194095028118,
          0.663069756486734,
          0.6930201034706563,
          0.7229704504545786,
          0.7529207974385009,
          0.7828711444224232,
          0.8128214914063455,
          0.8427718383902678,
          0.8727221853741901,
          0.9026725323581124,
          0.9326228793420347,
          0.962573226325957,
          0.9925235733098793,
          1.0224739202938016,
          1.052424267277724,
          1.0823746142616462,
          1.1123249612455686,
          1.1422753082294907,
          1.1722256552134132,
          1.2021760021973353,
          1.2321263491812577,
          1.26207669616518,
          1.2920270431491023,
          1.3219773901330245,
          1.351927737116947,
          1.381878084100869,
          1.4118284310847915,
          1.4417787780687137,
          1.471729125052636,
          1.5016794720365583,
          1.5316298190204807,
          1.561580166004403,
          1.5915305129883253,
          1.6214808599722477
         ]
        }
       ],
       "layout": {
        "font": {
         "color": "Black",
         "family": "Arial",
         "size": 12
        },
        "plot_bgcolor": "rgba(0,0,0,0)",
        "template": {
         "data": {
          "bar": [
           {
            "error_x": {
             "color": "#2a3f5f"
            },
            "error_y": {
             "color": "#2a3f5f"
            },
            "marker": {
             "line": {
              "color": "#E5ECF6",
              "width": 0.5
             },
             "pattern": {
              "fillmode": "overlay",
              "size": 10,
              "solidity": 0.2
             }
            },
            "type": "bar"
           }
          ],
          "barpolar": [
           {
            "marker": {
             "line": {
              "color": "#E5ECF6",
              "width": 0.5
             },
             "pattern": {
              "fillmode": "overlay",
              "size": 10,
              "solidity": 0.2
             }
            },
            "type": "barpolar"
           }
          ],
          "carpet": [
           {
            "aaxis": {
             "endlinecolor": "#2a3f5f",
             "gridcolor": "white",
             "linecolor": "white",
             "minorgridcolor": "white",
             "startlinecolor": "#2a3f5f"
            },
            "baxis": {
             "endlinecolor": "#2a3f5f",
             "gridcolor": "white",
             "linecolor": "white",
             "minorgridcolor": "white",
             "startlinecolor": "#2a3f5f"
            },
            "type": "carpet"
           }
          ],
          "choropleth": [
           {
            "colorbar": {
             "outlinewidth": 0,
             "ticks": ""
            },
            "type": "choropleth"
           }
          ],
          "contour": [
           {
            "colorbar": {
             "outlinewidth": 0,
             "ticks": ""
            },
            "colorscale": [
             [
              0,
              "#0d0887"
             ],
             [
              0.1111111111111111,
              "#46039f"
             ],
             [
              0.2222222222222222,
              "#7201a8"
             ],
             [
              0.3333333333333333,
              "#9c179e"
             ],
             [
              0.4444444444444444,
              "#bd3786"
             ],
             [
              0.5555555555555556,
              "#d8576b"
             ],
             [
              0.6666666666666666,
              "#ed7953"
             ],
             [
              0.7777777777777778,
              "#fb9f3a"
             ],
             [
              0.8888888888888888,
              "#fdca26"
             ],
             [
              1,
              "#f0f921"
             ]
            ],
            "type": "contour"
           }
          ],
          "contourcarpet": [
           {
            "colorbar": {
             "outlinewidth": 0,
             "ticks": ""
            },
            "type": "contourcarpet"
           }
          ],
          "heatmap": [
           {
            "colorbar": {
             "outlinewidth": 0,
             "ticks": ""
            },
            "colorscale": [
             [
              0,
              "#0d0887"
             ],
             [
              0.1111111111111111,
              "#46039f"
             ],
             [
              0.2222222222222222,
              "#7201a8"
             ],
             [
              0.3333333333333333,
              "#9c179e"
             ],
             [
              0.4444444444444444,
              "#bd3786"
             ],
             [
              0.5555555555555556,
              "#d8576b"
             ],
             [
              0.6666666666666666,
              "#ed7953"
             ],
             [
              0.7777777777777778,
              "#fb9f3a"
             ],
             [
              0.8888888888888888,
              "#fdca26"
             ],
             [
              1,
              "#f0f921"
             ]
            ],
            "type": "heatmap"
           }
          ],
          "heatmapgl": [
           {
            "colorbar": {
             "outlinewidth": 0,
             "ticks": ""
            },
            "colorscale": [
             [
              0,
              "#0d0887"
             ],
             [
              0.1111111111111111,
              "#46039f"
             ],
             [
              0.2222222222222222,
              "#7201a8"
             ],
             [
              0.3333333333333333,
              "#9c179e"
             ],
             [
              0.4444444444444444,
              "#bd3786"
             ],
             [
              0.5555555555555556,
              "#d8576b"
             ],
             [
              0.6666666666666666,
              "#ed7953"
             ],
             [
              0.7777777777777778,
              "#fb9f3a"
             ],
             [
              0.8888888888888888,
              "#fdca26"
             ],
             [
              1,
              "#f0f921"
             ]
            ],
            "type": "heatmapgl"
           }
          ],
          "histogram": [
           {
            "marker": {
             "pattern": {
              "fillmode": "overlay",
              "size": 10,
              "solidity": 0.2
             }
            },
            "type": "histogram"
           }
          ],
          "histogram2d": [
           {
            "colorbar": {
             "outlinewidth": 0,
             "ticks": ""
            },
            "colorscale": [
             [
              0,
              "#0d0887"
             ],
             [
              0.1111111111111111,
              "#46039f"
             ],
             [
              0.2222222222222222,
              "#7201a8"
             ],
             [
              0.3333333333333333,
              "#9c179e"
             ],
             [
              0.4444444444444444,
              "#bd3786"
             ],
             [
              0.5555555555555556,
              "#d8576b"
             ],
             [
              0.6666666666666666,
              "#ed7953"
             ],
             [
              0.7777777777777778,
              "#fb9f3a"
             ],
             [
              0.8888888888888888,
              "#fdca26"
             ],
             [
              1,
              "#f0f921"
             ]
            ],
            "type": "histogram2d"
           }
          ],
          "histogram2dcontour": [
           {
            "colorbar": {
             "outlinewidth": 0,
             "ticks": ""
            },
            "colorscale": [
             [
              0,
              "#0d0887"
             ],
             [
              0.1111111111111111,
              "#46039f"
             ],
             [
              0.2222222222222222,
              "#7201a8"
             ],
             [
              0.3333333333333333,
              "#9c179e"
             ],
             [
              0.4444444444444444,
              "#bd3786"
             ],
             [
              0.5555555555555556,
              "#d8576b"
             ],
             [
              0.6666666666666666,
              "#ed7953"
             ],
             [
              0.7777777777777778,
              "#fb9f3a"
             ],
             [
              0.8888888888888888,
              "#fdca26"
             ],
             [
              1,
              "#f0f921"
             ]
            ],
            "type": "histogram2dcontour"
           }
          ],
          "mesh3d": [
           {
            "colorbar": {
             "outlinewidth": 0,
             "ticks": ""
            },
            "type": "mesh3d"
           }
          ],
          "parcoords": [
           {
            "line": {
             "colorbar": {
              "outlinewidth": 0,
              "ticks": ""
             }
            },
            "type": "parcoords"
           }
          ],
          "pie": [
           {
            "automargin": true,
            "type": "pie"
           }
          ],
          "scatter": [
           {
            "fillpattern": {
             "fillmode": "overlay",
             "size": 10,
             "solidity": 0.2
            },
            "type": "scatter"
           }
          ],
          "scatter3d": [
           {
            "line": {
             "colorbar": {
              "outlinewidth": 0,
              "ticks": ""
             }
            },
            "marker": {
             "colorbar": {
              "outlinewidth": 0,
              "ticks": ""
             }
            },
            "type": "scatter3d"
           }
          ],
          "scattercarpet": [
           {
            "marker": {
             "colorbar": {
              "outlinewidth": 0,
              "ticks": ""
             }
            },
            "type": "scattercarpet"
           }
          ],
          "scattergeo": [
           {
            "marker": {
             "colorbar": {
              "outlinewidth": 0,
              "ticks": ""
             }
            },
            "type": "scattergeo"
           }
          ],
          "scattergl": [
           {
            "marker": {
             "colorbar": {
              "outlinewidth": 0,
              "ticks": ""
             }
            },
            "type": "scattergl"
           }
          ],
          "scattermapbox": [
           {
            "marker": {
             "colorbar": {
              "outlinewidth": 0,
              "ticks": ""
             }
            },
            "type": "scattermapbox"
           }
          ],
          "scatterpolar": [
           {
            "marker": {
             "colorbar": {
              "outlinewidth": 0,
              "ticks": ""
             }
            },
            "type": "scatterpolar"
           }
          ],
          "scatterpolargl": [
           {
            "marker": {
             "colorbar": {
              "outlinewidth": 0,
              "ticks": ""
             }
            },
            "type": "scatterpolargl"
           }
          ],
          "scatterternary": [
           {
            "marker": {
             "colorbar": {
              "outlinewidth": 0,
              "ticks": ""
             }
            },
            "type": "scatterternary"
           }
          ],
          "surface": [
           {
            "colorbar": {
             "outlinewidth": 0,
             "ticks": ""
            },
            "colorscale": [
             [
              0,
              "#0d0887"
             ],
             [
              0.1111111111111111,
              "#46039f"
             ],
             [
              0.2222222222222222,
              "#7201a8"
             ],
             [
              0.3333333333333333,
              "#9c179e"
             ],
             [
              0.4444444444444444,
              "#bd3786"
             ],
             [
              0.5555555555555556,
              "#d8576b"
             ],
             [
              0.6666666666666666,
              "#ed7953"
             ],
             [
              0.7777777777777778,
              "#fb9f3a"
             ],
             [
              0.8888888888888888,
              "#fdca26"
             ],
             [
              1,
              "#f0f921"
             ]
            ],
            "type": "surface"
           }
          ],
          "table": [
           {
            "cells": {
             "fill": {
              "color": "#EBF0F8"
             },
             "line": {
              "color": "white"
             }
            },
            "header": {
             "fill": {
              "color": "#C8D4E3"
             },
             "line": {
              "color": "white"
             }
            },
            "type": "table"
           }
          ]
         },
         "layout": {
          "annotationdefaults": {
           "arrowcolor": "#2a3f5f",
           "arrowhead": 0,
           "arrowwidth": 1
          },
          "autotypenumbers": "strict",
          "coloraxis": {
           "colorbar": {
            "outlinewidth": 0,
            "ticks": ""
           }
          },
          "colorscale": {
           "diverging": [
            [
             0,
             "#8e0152"
            ],
            [
             0.1,
             "#c51b7d"
            ],
            [
             0.2,
             "#de77ae"
            ],
            [
             0.3,
             "#f1b6da"
            ],
            [
             0.4,
             "#fde0ef"
            ],
            [
             0.5,
             "#f7f7f7"
            ],
            [
             0.6,
             "#e6f5d0"
            ],
            [
             0.7,
             "#b8e186"
            ],
            [
             0.8,
             "#7fbc41"
            ],
            [
             0.9,
             "#4d9221"
            ],
            [
             1,
             "#276419"
            ]
           ],
           "sequential": [
            [
             0,
             "#0d0887"
            ],
            [
             0.1111111111111111,
             "#46039f"
            ],
            [
             0.2222222222222222,
             "#7201a8"
            ],
            [
             0.3333333333333333,
             "#9c179e"
            ],
            [
             0.4444444444444444,
             "#bd3786"
            ],
            [
             0.5555555555555556,
             "#d8576b"
            ],
            [
             0.6666666666666666,
             "#ed7953"
            ],
            [
             0.7777777777777778,
             "#fb9f3a"
            ],
            [
             0.8888888888888888,
             "#fdca26"
            ],
            [
             1,
             "#f0f921"
            ]
           ],
           "sequentialminus": [
            [
             0,
             "#0d0887"
            ],
            [
             0.1111111111111111,
             "#46039f"
            ],
            [
             0.2222222222222222,
             "#7201a8"
            ],
            [
             0.3333333333333333,
             "#9c179e"
            ],
            [
             0.4444444444444444,
             "#bd3786"
            ],
            [
             0.5555555555555556,
             "#d8576b"
            ],
            [
             0.6666666666666666,
             "#ed7953"
            ],
            [
             0.7777777777777778,
             "#fb9f3a"
            ],
            [
             0.8888888888888888,
             "#fdca26"
            ],
            [
             1,
             "#f0f921"
            ]
           ]
          },
          "colorway": [
           "#636efa",
           "#EF553B",
           "#00cc96",
           "#ab63fa",
           "#FFA15A",
           "#19d3f3",
           "#FF6692",
           "#B6E880",
           "#FF97FF",
           "#FECB52"
          ],
          "font": {
           "color": "#2a3f5f"
          },
          "geo": {
           "bgcolor": "white",
           "lakecolor": "white",
           "landcolor": "#E5ECF6",
           "showlakes": true,
           "showland": true,
           "subunitcolor": "white"
          },
          "hoverlabel": {
           "align": "left"
          },
          "hovermode": "closest",
          "mapbox": {
           "style": "light"
          },
          "paper_bgcolor": "white",
          "plot_bgcolor": "#E5ECF6",
          "polar": {
           "angularaxis": {
            "gridcolor": "white",
            "linecolor": "white",
            "ticks": ""
           },
           "bgcolor": "#E5ECF6",
           "radialaxis": {
            "gridcolor": "white",
            "linecolor": "white",
            "ticks": ""
           }
          },
          "scene": {
           "xaxis": {
            "backgroundcolor": "#E5ECF6",
            "gridcolor": "white",
            "gridwidth": 2,
            "linecolor": "white",
            "showbackground": true,
            "ticks": "",
            "zerolinecolor": "white"
           },
           "yaxis": {
            "backgroundcolor": "#E5ECF6",
            "gridcolor": "white",
            "gridwidth": 2,
            "linecolor": "white",
            "showbackground": true,
            "ticks": "",
            "zerolinecolor": "white"
           },
           "zaxis": {
            "backgroundcolor": "#E5ECF6",
            "gridcolor": "white",
            "gridwidth": 2,
            "linecolor": "white",
            "showbackground": true,
            "ticks": "",
            "zerolinecolor": "white"
           }
          },
          "shapedefaults": {
           "line": {
            "color": "#2a3f5f"
           }
          },
          "ternary": {
           "aaxis": {
            "gridcolor": "white",
            "linecolor": "white",
            "ticks": ""
           },
           "baxis": {
            "gridcolor": "white",
            "linecolor": "white",
            "ticks": ""
           },
           "bgcolor": "#E5ECF6",
           "caxis": {
            "gridcolor": "white",
            "linecolor": "white",
            "ticks": ""
           }
          },
          "title": {
           "x": 0.05
          },
          "xaxis": {
           "automargin": true,
           "gridcolor": "white",
           "linecolor": "white",
           "ticks": "",
           "title": {
            "standoff": 15
           },
           "zerolinecolor": "white",
           "zerolinewidth": 2
          },
          "yaxis": {
           "automargin": true,
           "gridcolor": "white",
           "linecolor": "white",
           "ticks": "",
           "title": {
            "standoff": 15
           },
           "zerolinecolor": "white",
           "zerolinewidth": 2
          }
         }
        },
        "title": {
         "text": "Old Model average exemplar means over time (averaged per 200 iterations)"
        },
        "width": 1500,
        "xaxis": {
         "title": {
          "text": "Iteration"
         }
        },
        "yaxis": {
         "title": {
          "text": "Mean"
         }
        }
       }
      },
      "text/html": [
       "<div>                            <div id=\"045f39c5-cd11-480d-bd1a-f5102d5a693c\" class=\"plotly-graph-div\" style=\"height:525px; width:1500px;\"></div>            <script type=\"text/javascript\">                require([\"plotly\"], function(Plotly) {                    window.PLOTLYENV=window.PLOTLYENV || {};                                    if (document.getElementById(\"045f39c5-cd11-480d-bd1a-f5102d5a693c\")) {                    Plotly.newPlot(                        \"045f39c5-cd11-480d-bd1a-f5102d5a693c\",                        [{\"marker\":{\"color\":\"blue\",\"size\":5},\"mode\":\"markers\",\"name\":\"Low Frequency (1-6) Words\",\"x\":[\"0-200\",\"200-400\",\"400-600\",\"600-800\",\"800-1000\",\"1000-1200\",\"1200-1400\",\"1400-1600\",\"1600-1800\",\"1800-2000\",\"2000-2200\",\"2200-2400\",\"2400-2600\",\"2600-2800\",\"2800-3000\",\"3000-3200\",\"3200-3400\",\"3400-3600\",\"3600-3800\",\"3800-4000\",\"4000-4200\",\"4200-4400\",\"4400-4600\",\"4600-4800\",\"4800-5000\",\"5000-5200\",\"5200-5400\",\"5400-5600\",\"5600-5800\",\"5800-6000\",\"6000-6200\",\"6200-6400\",\"6400-6600\",\"6600-6800\",\"6800-7000\",\"7000-7200\",\"7200-7400\",\"7400-7600\",\"7600-7800\",\"7800-8000\",\"8000-8200\",\"8200-8400\",\"8400-8600\",\"8600-8800\",\"8800-9000\",\"9000-9200\",\"9200-9400\",\"9400-9600\",\"9600-9800\",\"9800-10000\"],\"y\":[0.034813468664822815,0.07717952117977803,0.17897452672686665,0.16239688342037467,0.23013086664330507,0.29192840825049854,0.345650516483939,0.40102284695131307,0.38648461651397864,0.4251579914028421,0.4636150779431268,0.4765214281664955,0.5125589391275853,0.6485297414683328,0.6166609555191934,0.6124222215505749,0.6055416926050559,0.6528087850571975,0.7296385929000152,0.6915677839231265,0.7766729537157182,0.7738177029523692,0.702083487673124,0.7669513196886868,0.7945714555495571,0.8123219216010265,0.8098472862278243,0.7943065921243224,0.8387159553230158,0.8736057656850293,0.8842282117073197,0.8682651516089963,0.9328361752039557,0.9310242635593711,0.9200333111193093,0.9286948104327846,1.011598751569384,0.9848777077616533,1.001053386267184,1.0434053674537866,1.0399044200541385,0.9654473799076616,0.9995101293257543,1.0461504420625478,1.0675370370193016,1.0477013867525031,1.0714710889085324,1.0766584300963131,1.0543609257531599,1.0459830393987184],\"type\":\"scatter\"},{\"marker\":{\"color\":\"red\",\"size\":5},\"mode\":\"markers\",\"name\":\"High Frequency (7-12) Words\",\"x\":[\"0-200\",\"200-400\",\"400-600\",\"600-800\",\"800-1000\",\"1000-1200\",\"1200-1400\",\"1400-1600\",\"1600-1800\",\"1800-2000\",\"2000-2200\",\"2200-2400\",\"2400-2600\",\"2600-2800\",\"2800-3000\",\"3000-3200\",\"3200-3400\",\"3400-3600\",\"3600-3800\",\"3800-4000\",\"4000-4200\",\"4200-4400\",\"4400-4600\",\"4600-4800\",\"4800-5000\",\"5000-5200\",\"5200-5400\",\"5400-5600\",\"5600-5800\",\"5800-6000\",\"6000-6200\",\"6200-6400\",\"6400-6600\",\"6600-6800\",\"6800-7000\",\"7000-7200\",\"7200-7400\",\"7400-7600\",\"7600-7800\",\"7800-8000\",\"8000-8200\",\"8200-8400\",\"8400-8600\",\"8600-8800\",\"8800-9000\",\"9000-9200\",\"9200-9400\",\"9400-9600\",\"9600-9800\",\"9800-10000\"],\"y\":[0.009761151558153873,0.13957143616187354,0.1994369020119859,0.31511577954670866,0.40850534830715163,0.5519275970810426,0.5722345938262117,0.7297480760963234,0.782791145821265,0.8952041523255171,0.9559976217407372,1.1089510612114382,1.1375219274533486,1.1196180442088648,1.1893002184755705,1.2706417718145162,1.3532701035459018,1.376730544155876,1.438613730159026,1.5418974086742399,1.496247328680719,1.587345377236334,1.6402908518547594,1.6837516197156353,1.7232229600573625,1.7967544352004978,1.8012070081287035,1.8476298936571385,1.956521455802256,1.9219873001136236,2.0525596368305465,2.062428014207581,2.0439282867627337,2.11930641237611,2.109976821429527,2.1705523594942058,2.1390108700661186,2.2729372092473783,2.387628047203232,2.349698245984154,2.3453256058245686,2.350235585233942,2.3864954442042374,2.384999061059825,2.4432892208436034,2.4022188637127697,2.4586771643171486,2.5097630752991504,2.5112665850434137,2.740015310546024],\"type\":\"scatter\"},{\"line\":{\"color\":\"blue\"},\"mode\":\"lines\",\"name\":\"Regression (1-6)\",\"x\":[\"0-200\",\"200-400\",\"400-600\",\"600-800\",\"800-1000\",\"1000-1200\",\"1200-1400\",\"1400-1600\",\"1600-1800\",\"1800-2000\",\"2000-2200\",\"2200-2400\",\"2400-2600\",\"2600-2800\",\"2800-3000\",\"3000-3200\",\"3200-3400\",\"3400-3600\",\"3600-3800\",\"3800-4000\",\"4000-4200\",\"4200-4400\",\"4400-4600\",\"4600-4800\",\"4800-5000\",\"5000-5200\",\"5200-5400\",\"5400-5600\",\"5600-5800\",\"5800-6000\",\"6000-6200\",\"6200-6400\",\"6400-6600\",\"6600-6800\",\"6800-7000\",\"7000-7200\",\"7200-7400\",\"7400-7600\",\"7600-7800\",\"7800-8000\",\"8000-8200\",\"8200-8400\",\"8400-8600\",\"8600-8800\",\"8800-9000\",\"9000-9200\",\"9200-9400\",\"9400-9600\",\"9600-9800\",\"9800-10000\"],\"y\":[0.25416856408839683,0.27351453348968796,0.2928605028909791,0.31220647229227017,0.3315524416935613,0.3508984110948524,0.37024438049614355,0.3895903498974347,0.40893631929872576,0.42828228870001694,0.447628258101308,0.46697422750259915,0.4863201969038903,0.5056661663051814,0.5250121357064725,0.5443581051077636,0.5637040745090547,0.5830500439103459,0.6023960133116371,0.6217419827129281,0.6410879521142192,0.6604339215155104,0.6797798909168015,0.6991258603180925,0.7184718297193837,0.7378177991206749,0.757163768521966,0.7765097379232571,0.7958557073245482,0.8152016767258393,0.8345476461271304,0.8538936155284216,0.8732395849297127,0.8925855543310038,0.9119315237322949,0.9312774931335861,0.9506234625348772,0.9699694319361682,0.9893154013374594,1.0086613707387504,1.0280073401400416,1.0473533095413328,1.066699278942624,1.0860452483439151,1.105391217745206,1.1247371871464973,1.1440831565477882,1.1634291259490794,1.1827750953503706,1.2021210647516618],\"type\":\"scatter\"},{\"line\":{\"color\":\"red\"},\"mode\":\"lines\",\"name\":\"Regression (7-12)\",\"x\":[\"0-200\",\"200-400\",\"400-600\",\"600-800\",\"800-1000\",\"1000-1200\",\"1200-1400\",\"1400-1600\",\"1600-1800\",\"1800-2000\",\"2000-2200\",\"2200-2400\",\"2400-2600\",\"2600-2800\",\"2800-3000\",\"3000-3200\",\"3200-3400\",\"3400-3600\",\"3600-3800\",\"3800-4000\",\"4000-4200\",\"4200-4400\",\"4400-4600\",\"4600-4800\",\"4800-5000\",\"5000-5200\",\"5200-5400\",\"5400-5600\",\"5600-5800\",\"5800-6000\",\"6000-6200\",\"6200-6400\",\"6400-6600\",\"6600-6800\",\"6800-7000\",\"7000-7200\",\"7200-7400\",\"7400-7600\",\"7600-7800\",\"7800-8000\",\"8000-8200\",\"8200-8400\",\"8400-8600\",\"8600-8800\",\"8800-9000\",\"9000-9200\",\"9200-9400\",\"9400-9600\",\"9600-9800\",\"9800-10000\"],\"y\":[0.4080824218484516,0.45737873823366504,0.5066750546188785,0.5559713710040919,0.6052676873893053,0.6545640037745187,0.7038603201597322,0.7531566365449456,0.802452952930159,0.8517492693153724,0.9010455857005859,0.9503419020857993,0.9996382184710126,1.0489345348562262,1.0982308512414396,1.147527167626653,1.1968234840118663,1.24611980039708,1.2954161167822933,1.3447124331675067,1.39400874955272,1.4433050659379334,1.492601382323147,1.5418976987083604,1.5911940150935737,1.640490331478787,1.6897866478640007,1.739082964249214,1.7883792806344274,1.8376755970196408,1.8869719134048544,1.9362682297900677,1.985564546175281,2.0348608625604947,2.0841571789457083,2.1334534953309214,2.182749811716135,2.232046128101348,2.2813424444865618,2.3306387608717754,2.3799350772569885,2.429231393642202,2.4785277100274152,2.527824026412629,2.5771203427978424,2.6264166591830556,2.675712975568269,2.7250092919534823,2.774305608338696,2.8236019247239095],\"type\":\"scatter\"},{\"line\":{\"color\":\"black\"},\"mode\":\"lines\",\"name\":\"Difference Regression\",\"x\":[\"0-200\",\"200-400\",\"400-600\",\"600-800\",\"800-1000\",\"1000-1200\",\"1200-1400\",\"1400-1600\",\"1600-1800\",\"1800-2000\",\"2000-2200\",\"2200-2400\",\"2400-2600\",\"2600-2800\",\"2800-3000\",\"3000-3200\",\"3200-3400\",\"3400-3600\",\"3600-3800\",\"3800-4000\",\"4000-4200\",\"4200-4400\",\"4400-4600\",\"4600-4800\",\"4800-5000\",\"5000-5200\",\"5200-5400\",\"5400-5600\",\"5600-5800\",\"5800-6000\",\"6000-6200\",\"6200-6400\",\"6400-6600\",\"6600-6800\",\"6800-7000\",\"7000-7200\",\"7200-7400\",\"7400-7600\",\"7600-7800\",\"7800-8000\",\"8000-8200\",\"8200-8400\",\"8400-8600\",\"8600-8800\",\"8800-9000\",\"9000-9200\",\"9200-9400\",\"9400-9600\",\"9600-9800\",\"9800-10000\"],\"y\":[0.15391385776005498,0.18386420474397727,0.21381455172789957,0.2437648987118219,0.2737152456957442,0.3036655926796665,0.33361593966358877,0.36356628664751106,0.39351663363143335,0.4234669806153557,0.453417327599278,0.4833676745832003,0.5133180215671226,0.5432683685510449,0.5732187155349672,0.6031690625188895,0.6331194095028118,0.663069756486734,0.6930201034706563,0.7229704504545786,0.7529207974385009,0.7828711444224232,0.8128214914063455,0.8427718383902678,0.8727221853741901,0.9026725323581124,0.9326228793420347,0.962573226325957,0.9925235733098793,1.0224739202938016,1.052424267277724,1.0823746142616462,1.1123249612455686,1.1422753082294907,1.1722256552134132,1.2021760021973353,1.2321263491812577,1.26207669616518,1.2920270431491023,1.3219773901330245,1.351927737116947,1.381878084100869,1.4118284310847915,1.4417787780687137,1.471729125052636,1.5016794720365583,1.5316298190204807,1.561580166004403,1.5915305129883253,1.6214808599722477],\"type\":\"scatter\"}],                        {\"template\":{\"data\":{\"histogram2dcontour\":[{\"type\":\"histogram2dcontour\",\"colorbar\":{\"outlinewidth\":0,\"ticks\":\"\"},\"colorscale\":[[0.0,\"#0d0887\"],[0.1111111111111111,\"#46039f\"],[0.2222222222222222,\"#7201a8\"],[0.3333333333333333,\"#9c179e\"],[0.4444444444444444,\"#bd3786\"],[0.5555555555555556,\"#d8576b\"],[0.6666666666666666,\"#ed7953\"],[0.7777777777777778,\"#fb9f3a\"],[0.8888888888888888,\"#fdca26\"],[1.0,\"#f0f921\"]]}],\"choropleth\":[{\"type\":\"choropleth\",\"colorbar\":{\"outlinewidth\":0,\"ticks\":\"\"}}],\"histogram2d\":[{\"type\":\"histogram2d\",\"colorbar\":{\"outlinewidth\":0,\"ticks\":\"\"},\"colorscale\":[[0.0,\"#0d0887\"],[0.1111111111111111,\"#46039f\"],[0.2222222222222222,\"#7201a8\"],[0.3333333333333333,\"#9c179e\"],[0.4444444444444444,\"#bd3786\"],[0.5555555555555556,\"#d8576b\"],[0.6666666666666666,\"#ed7953\"],[0.7777777777777778,\"#fb9f3a\"],[0.8888888888888888,\"#fdca26\"],[1.0,\"#f0f921\"]]}],\"heatmap\":[{\"type\":\"heatmap\",\"colorbar\":{\"outlinewidth\":0,\"ticks\":\"\"},\"colorscale\":[[0.0,\"#0d0887\"],[0.1111111111111111,\"#46039f\"],[0.2222222222222222,\"#7201a8\"],[0.3333333333333333,\"#9c179e\"],[0.4444444444444444,\"#bd3786\"],[0.5555555555555556,\"#d8576b\"],[0.6666666666666666,\"#ed7953\"],[0.7777777777777778,\"#fb9f3a\"],[0.8888888888888888,\"#fdca26\"],[1.0,\"#f0f921\"]]}],\"heatmapgl\":[{\"type\":\"heatmapgl\",\"colorbar\":{\"outlinewidth\":0,\"ticks\":\"\"},\"colorscale\":[[0.0,\"#0d0887\"],[0.1111111111111111,\"#46039f\"],[0.2222222222222222,\"#7201a8\"],[0.3333333333333333,\"#9c179e\"],[0.4444444444444444,\"#bd3786\"],[0.5555555555555556,\"#d8576b\"],[0.6666666666666666,\"#ed7953\"],[0.7777777777777778,\"#fb9f3a\"],[0.8888888888888888,\"#fdca26\"],[1.0,\"#f0f921\"]]}],\"contourcarpet\":[{\"type\":\"contourcarpet\",\"colorbar\":{\"outlinewidth\":0,\"ticks\":\"\"}}],\"contour\":[{\"type\":\"contour\",\"colorbar\":{\"outlinewidth\":0,\"ticks\":\"\"},\"colorscale\":[[0.0,\"#0d0887\"],[0.1111111111111111,\"#46039f\"],[0.2222222222222222,\"#7201a8\"],[0.3333333333333333,\"#9c179e\"],[0.4444444444444444,\"#bd3786\"],[0.5555555555555556,\"#d8576b\"],[0.6666666666666666,\"#ed7953\"],[0.7777777777777778,\"#fb9f3a\"],[0.8888888888888888,\"#fdca26\"],[1.0,\"#f0f921\"]]}],\"surface\":[{\"type\":\"surface\",\"colorbar\":{\"outlinewidth\":0,\"ticks\":\"\"},\"colorscale\":[[0.0,\"#0d0887\"],[0.1111111111111111,\"#46039f\"],[0.2222222222222222,\"#7201a8\"],[0.3333333333333333,\"#9c179e\"],[0.4444444444444444,\"#bd3786\"],[0.5555555555555556,\"#d8576b\"],[0.6666666666666666,\"#ed7953\"],[0.7777777777777778,\"#fb9f3a\"],[0.8888888888888888,\"#fdca26\"],[1.0,\"#f0f921\"]]}],\"mesh3d\":[{\"type\":\"mesh3d\",\"colorbar\":{\"outlinewidth\":0,\"ticks\":\"\"}}],\"scatter\":[{\"fillpattern\":{\"fillmode\":\"overlay\",\"size\":10,\"solidity\":0.2},\"type\":\"scatter\"}],\"parcoords\":[{\"type\":\"parcoords\",\"line\":{\"colorbar\":{\"outlinewidth\":0,\"ticks\":\"\"}}}],\"scatterpolargl\":[{\"type\":\"scatterpolargl\",\"marker\":{\"colorbar\":{\"outlinewidth\":0,\"ticks\":\"\"}}}],\"bar\":[{\"error_x\":{\"color\":\"#2a3f5f\"},\"error_y\":{\"color\":\"#2a3f5f\"},\"marker\":{\"line\":{\"color\":\"#E5ECF6\",\"width\":0.5},\"pattern\":{\"fillmode\":\"overlay\",\"size\":10,\"solidity\":0.2}},\"type\":\"bar\"}],\"scattergeo\":[{\"type\":\"scattergeo\",\"marker\":{\"colorbar\":{\"outlinewidth\":0,\"ticks\":\"\"}}}],\"scatterpolar\":[{\"type\":\"scatterpolar\",\"marker\":{\"colorbar\":{\"outlinewidth\":0,\"ticks\":\"\"}}}],\"histogram\":[{\"marker\":{\"pattern\":{\"fillmode\":\"overlay\",\"size\":10,\"solidity\":0.2}},\"type\":\"histogram\"}],\"scattergl\":[{\"type\":\"scattergl\",\"marker\":{\"colorbar\":{\"outlinewidth\":0,\"ticks\":\"\"}}}],\"scatter3d\":[{\"type\":\"scatter3d\",\"line\":{\"colorbar\":{\"outlinewidth\":0,\"ticks\":\"\"}},\"marker\":{\"colorbar\":{\"outlinewidth\":0,\"ticks\":\"\"}}}],\"scattermapbox\":[{\"type\":\"scattermapbox\",\"marker\":{\"colorbar\":{\"outlinewidth\":0,\"ticks\":\"\"}}}],\"scatterternary\":[{\"type\":\"scatterternary\",\"marker\":{\"colorbar\":{\"outlinewidth\":0,\"ticks\":\"\"}}}],\"scattercarpet\":[{\"type\":\"scattercarpet\",\"marker\":{\"colorbar\":{\"outlinewidth\":0,\"ticks\":\"\"}}}],\"carpet\":[{\"aaxis\":{\"endlinecolor\":\"#2a3f5f\",\"gridcolor\":\"white\",\"linecolor\":\"white\",\"minorgridcolor\":\"white\",\"startlinecolor\":\"#2a3f5f\"},\"baxis\":{\"endlinecolor\":\"#2a3f5f\",\"gridcolor\":\"white\",\"linecolor\":\"white\",\"minorgridcolor\":\"white\",\"startlinecolor\":\"#2a3f5f\"},\"type\":\"carpet\"}],\"table\":[{\"cells\":{\"fill\":{\"color\":\"#EBF0F8\"},\"line\":{\"color\":\"white\"}},\"header\":{\"fill\":{\"color\":\"#C8D4E3\"},\"line\":{\"color\":\"white\"}},\"type\":\"table\"}],\"barpolar\":[{\"marker\":{\"line\":{\"color\":\"#E5ECF6\",\"width\":0.5},\"pattern\":{\"fillmode\":\"overlay\",\"size\":10,\"solidity\":0.2}},\"type\":\"barpolar\"}],\"pie\":[{\"automargin\":true,\"type\":\"pie\"}]},\"layout\":{\"autotypenumbers\":\"strict\",\"colorway\":[\"#636efa\",\"#EF553B\",\"#00cc96\",\"#ab63fa\",\"#FFA15A\",\"#19d3f3\",\"#FF6692\",\"#B6E880\",\"#FF97FF\",\"#FECB52\"],\"font\":{\"color\":\"#2a3f5f\"},\"hovermode\":\"closest\",\"hoverlabel\":{\"align\":\"left\"},\"paper_bgcolor\":\"white\",\"plot_bgcolor\":\"#E5ECF6\",\"polar\":{\"bgcolor\":\"#E5ECF6\",\"angularaxis\":{\"gridcolor\":\"white\",\"linecolor\":\"white\",\"ticks\":\"\"},\"radialaxis\":{\"gridcolor\":\"white\",\"linecolor\":\"white\",\"ticks\":\"\"}},\"ternary\":{\"bgcolor\":\"#E5ECF6\",\"aaxis\":{\"gridcolor\":\"white\",\"linecolor\":\"white\",\"ticks\":\"\"},\"baxis\":{\"gridcolor\":\"white\",\"linecolor\":\"white\",\"ticks\":\"\"},\"caxis\":{\"gridcolor\":\"white\",\"linecolor\":\"white\",\"ticks\":\"\"}},\"coloraxis\":{\"colorbar\":{\"outlinewidth\":0,\"ticks\":\"\"}},\"colorscale\":{\"sequential\":[[0.0,\"#0d0887\"],[0.1111111111111111,\"#46039f\"],[0.2222222222222222,\"#7201a8\"],[0.3333333333333333,\"#9c179e\"],[0.4444444444444444,\"#bd3786\"],[0.5555555555555556,\"#d8576b\"],[0.6666666666666666,\"#ed7953\"],[0.7777777777777778,\"#fb9f3a\"],[0.8888888888888888,\"#fdca26\"],[1.0,\"#f0f921\"]],\"sequentialminus\":[[0.0,\"#0d0887\"],[0.1111111111111111,\"#46039f\"],[0.2222222222222222,\"#7201a8\"],[0.3333333333333333,\"#9c179e\"],[0.4444444444444444,\"#bd3786\"],[0.5555555555555556,\"#d8576b\"],[0.6666666666666666,\"#ed7953\"],[0.7777777777777778,\"#fb9f3a\"],[0.8888888888888888,\"#fdca26\"],[1.0,\"#f0f921\"]],\"diverging\":[[0,\"#8e0152\"],[0.1,\"#c51b7d\"],[0.2,\"#de77ae\"],[0.3,\"#f1b6da\"],[0.4,\"#fde0ef\"],[0.5,\"#f7f7f7\"],[0.6,\"#e6f5d0\"],[0.7,\"#b8e186\"],[0.8,\"#7fbc41\"],[0.9,\"#4d9221\"],[1,\"#276419\"]]},\"xaxis\":{\"gridcolor\":\"white\",\"linecolor\":\"white\",\"ticks\":\"\",\"title\":{\"standoff\":15},\"zerolinecolor\":\"white\",\"automargin\":true,\"zerolinewidth\":2},\"yaxis\":{\"gridcolor\":\"white\",\"linecolor\":\"white\",\"ticks\":\"\",\"title\":{\"standoff\":15},\"zerolinecolor\":\"white\",\"automargin\":true,\"zerolinewidth\":2},\"scene\":{\"xaxis\":{\"backgroundcolor\":\"#E5ECF6\",\"gridcolor\":\"white\",\"linecolor\":\"white\",\"showbackground\":true,\"ticks\":\"\",\"zerolinecolor\":\"white\",\"gridwidth\":2},\"yaxis\":{\"backgroundcolor\":\"#E5ECF6\",\"gridcolor\":\"white\",\"linecolor\":\"white\",\"showbackground\":true,\"ticks\":\"\",\"zerolinecolor\":\"white\",\"gridwidth\":2},\"zaxis\":{\"backgroundcolor\":\"#E5ECF6\",\"gridcolor\":\"white\",\"linecolor\":\"white\",\"showbackground\":true,\"ticks\":\"\",\"zerolinecolor\":\"white\",\"gridwidth\":2}},\"shapedefaults\":{\"line\":{\"color\":\"#2a3f5f\"}},\"annotationdefaults\":{\"arrowcolor\":\"#2a3f5f\",\"arrowhead\":0,\"arrowwidth\":1},\"geo\":{\"bgcolor\":\"white\",\"landcolor\":\"#E5ECF6\",\"subunitcolor\":\"white\",\"showland\":true,\"showlakes\":true,\"lakecolor\":\"white\"},\"title\":{\"x\":0.05},\"mapbox\":{\"style\":\"light\"}}},\"font\":{\"family\":\"Arial\",\"size\":12,\"color\":\"Black\"},\"title\":{\"text\":\"Old Model average exemplar means over time (averaged per 200 iterations)\"},\"xaxis\":{\"title\":{\"text\":\"Iteration\"}},\"yaxis\":{\"title\":{\"text\":\"Mean\"}},\"plot_bgcolor\":\"rgba(0,0,0,0)\",\"width\":1500},                        {\"responsive\": true}                    ).then(function(){\n",
       "                            \n",
       "var gd = document.getElementById('045f39c5-cd11-480d-bd1a-f5102d5a693c');\n",
       "var x = new MutationObserver(function (mutations, observer) {{\n",
       "        var display = window.getComputedStyle(gd).display;\n",
       "        if (!display || display === 'none') {{\n",
       "            console.log([gd, 'removed!']);\n",
       "            Plotly.purge(gd);\n",
       "            observer.disconnect();\n",
       "        }}\n",
       "}});\n",
       "\n",
       "// Listen for the removal of the full notebook cells\n",
       "var notebookContainer = gd.closest('#notebook-container');\n",
       "if (notebookContainer) {{\n",
       "    x.observe(notebookContainer, {childList: true});\n",
       "}}\n",
       "\n",
       "// Listen for the clearing of the current output cell\n",
       "var outputEl = gd.closest('.output');\n",
       "if (outputEl) {{\n",
       "    x.observe(outputEl, {childList: true});\n",
       "}}\n",
       "\n",
       "                        })                };                });            </script>        </div>"
      ]
     },
     "metadata": {},
     "output_type": "display_data"
    }
   ],
   "source": [
    "plots(10)"
   ]
  }
 ],
 "metadata": {
  "kernelspec": {
   "display_name": "Python 3 (ipykernel)",
   "language": "python",
   "name": "python3"
  },
  "language_info": {
   "codemirror_mode": {
    "name": "ipython",
    "version": 3
   },
   "file_extension": ".py",
   "mimetype": "text/x-python",
   "name": "python",
   "nbconvert_exporter": "python",
   "pygments_lexer": "ipython3",
   "version": "3.9.13"
  }
 },
 "nbformat": 4,
 "nbformat_minor": 5
}
