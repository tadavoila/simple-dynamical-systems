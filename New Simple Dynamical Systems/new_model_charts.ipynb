{
 "cells": [
  {
   "cell_type": "code",
   "execution_count": 1,
   "id": "562740d5",
   "metadata": {},
   "outputs": [],
   "source": [
    "import plotly.express as px\n",
    "import plotly.graph_objects as go\n",
    "import pandas as pd\n",
    "import numpy as np"
   ]
  },
  {
   "cell_type": "code",
   "execution_count": 91,
   "id": "99e5396d",
   "metadata": {},
   "outputs": [],
   "source": [
    "def database(runs):    \n",
    "    # Initialize lists to store dataframes for each group\n",
    "    dfs_1_6 = []\n",
    "    dfs_7_12 = []\n",
    "    \n",
    "    for a in range(1, runs+1):\n",
    "        means_1_6_path = 'Outputs/means_1_6_r' + str(a) + '.json'\n",
    "        means_7_12_path = 'Outputs/means_7_12_r' + str(a) + '.json'\n",
    "        \n",
    "        means_1_6 = pd.read_json(means_1_6_path, typ='series').to_frame(name=f'Mean{a}')\n",
    "        means_7_12 = pd.read_json(means_7_12_path, typ='series').to_frame(name=f'Mean{a}')\n",
    "        \n",
    "        means_1_6[f'Iteration{a}'] = (means_1_6.index + 1).astype(float)\n",
    "        means_7_12[f'Iteration{a}'] = (means_7_12.index + 1).astype(float)\n",
    "        \n",
    "        # Append the dataframes to their respective lists\n",
    "        dfs_1_6.append(means_1_6)\n",
    "        dfs_7_12.append(means_7_12)\n",
    "    \n",
    "    # Concatenate the dataframes side by side for each group\n",
    "    df_1_6 = pd.concat(dfs_1_6, axis=1)\n",
    "    df_7_12 = pd.concat(dfs_7_12, axis=1)\n",
    "    \n",
    "    return df_1_6, df_7_12\n",
    "\n",
    "def plots(runs):\n",
    "    df_1_6, df_7_12 = database(runs)\n",
    "    \n",
    "    # Calculate the average mean for each group of iterations\n",
    "    df_1_6['AvgMean'] = df_1_6.filter(like='Mean').mean(axis=1)\n",
    "    df_7_12['AvgMean'] = df_7_12.filter(like='Mean').mean(axis=1)\n",
    "    \n",
    "    # Group by iterations per 200 and calculate the mean for each group\n",
    "    grouped_1_6 = df_1_6.groupby((df_1_6.index // 200) * 200)['AvgMean'].mean()\n",
    "    grouped_7_12 = df_7_12.groupby((df_7_12.index // 200) * 200)['AvgMean'].mean()\n",
    "    \n",
    "    # Calculate bin edges for x-axis labels based on the maximum iteration\n",
    "    max_iteration = max(grouped_1_6.index.max(), grouped_7_12.index.max())\n",
    "    bin_edges = [(i, i+200) for i in range(0, max_iteration+1, 200)]\n",
    "    bin_labels = [f'{edge[0]}-{edge[1]}' for edge in bin_edges]\n",
    "    \n",
    "    # Scatter plot for the 'grouped_1_6' DataFrame with blue dots\n",
    "    fig = go.Figure(data=go.Scatter(x=bin_labels,\n",
    "                                    y=grouped_1_6,\n",
    "                                    mode='markers',\n",
    "                                    marker=dict(color='blue', size=5),\n",
    "                                    name='Low Frequency (1-6) Words'))\n",
    "\n",
    "    # Scatter plot for the 'grouped_7_12' DataFrame with red dots\n",
    "    fig.add_trace(go.Scatter(x=bin_labels,\n",
    "                             y=grouped_7_12,\n",
    "                             mode='markers',\n",
    "                             marker=dict(color='red', size=5),\n",
    "                             name='High Frequency (7-12) Words'))\n",
    "\n",
    "    # Linear regression for grouped_1_6\n",
    "    slope_1_6, intercept_1_6 = np.polyfit(grouped_1_6.index, grouped_1_6, 1)\n",
    "    regression_1_6 = slope_1_6 * grouped_1_6.index + intercept_1_6\n",
    "\n",
    "    # Linear regression for grouped_7_12\n",
    "    slope_7_12, intercept_7_12 = np.polyfit(grouped_7_12.index, grouped_7_12, 1)\n",
    "    regression_7_12 = slope_7_12 * grouped_7_12.index + intercept_7_12\n",
    "\n",
    "    # Regression line for grouped_1_6\n",
    "    fig.add_trace(go.Scatter(x=bin_labels,\n",
    "                             y=regression_1_6,\n",
    "                             mode='lines',\n",
    "                             line=dict(color='black'),\n",
    "                             name='Regression (1-6)'))\n",
    "\n",
    "    # Regression line for grouped_7_12\n",
    "    fig.add_trace(go.Scatter(x=bin_labels,\n",
    "                             y=regression_7_12,\n",
    "                             mode='lines',\n",
    "                             line=dict(color='gold'),\n",
    "                             name='Regression (7-12)'))\n",
    "\n",
    "    # Calculate the difference between the means of the two groups\n",
    "    difference = grouped_7_12 - grouped_1_6\n",
    "\n",
    "    # Linear regression for the difference\n",
    "    slope_diff, intercept_diff = np.polyfit(difference.index, difference, 1)\n",
    "    regression_diff = slope_diff * difference.index + intercept_diff\n",
    "\n",
    "    # Regression line for the difference\n",
    "    fig.add_trace(go.Scatter(x=bin_labels,\n",
    "                             y=regression_diff,\n",
    "                             mode='lines',\n",
    "                             line=dict(color='purple'),\n",
    "                             name='Difference Regression'))\n",
    "\n",
    "    # Update the layout\n",
    "    fig.update_layout(title='Average exemplar means over time (averaged per 200 iterations)', \n",
    "                      xaxis_title='Iteration', \n",
    "                      yaxis_title='Mean',\n",
    "                      plot_bgcolor='rgba(0,0,0,0)',\n",
    "                      font=dict(\n",
    "                            family=\"Arial\",\n",
    "                            size=12,\n",
    "                            color=\"Black\"\n",
    "                        ),\n",
    "                     width = 1500)\n",
    "\n",
    "    fig.show()"
   ]
  },
  {
   "cell_type": "code",
   "execution_count": 90,
   "id": "2cb3d34b",
   "metadata": {},
   "outputs": [
    {
     "data": {
      "application/vnd.plotly.v1+json": {
       "config": {
        "plotlyServerURL": "https://plotly.com"
       },
       "data": [
        {
         "marker": {
          "color": "blue",
          "size": 5
         },
         "mode": "markers",
         "name": "Low Frequency (1-6) Words",
         "type": "scatter",
         "x": [
          "0-200",
          "200-400",
          "400-600",
          "600-800",
          "800-1000",
          "1000-1200",
          "1200-1400",
          "1400-1600",
          "1600-1800",
          "1800-2000",
          "2000-2200",
          "2200-2400",
          "2400-2600",
          "2600-2800",
          "2800-3000",
          "3000-3200",
          "3200-3400",
          "3400-3600",
          "3600-3800",
          "3800-4000",
          "4000-4200",
          "4200-4400",
          "4400-4600",
          "4600-4800",
          "4800-5000",
          "5000-5200",
          "5200-5400",
          "5400-5600",
          "5600-5800",
          "5800-6000",
          "6000-6200",
          "6200-6400",
          "6400-6600",
          "6600-6800",
          "6800-7000",
          "7000-7200",
          "7200-7400",
          "7400-7600",
          "7600-7800",
          "7800-8000",
          "8000-8200",
          "8200-8400",
          "8400-8600",
          "8600-8800",
          "8800-9000",
          "9000-9200",
          "9200-9400",
          "9400-9600",
          "9600-9800",
          "9800-10000"
         ],
         "y": [
          0.053913432539682477,
          0.06958414682539678,
          0.16714064484126978,
          0.18771937499999997,
          0.21569349867724863,
          0.2957470221477758,
          0.3134267063492063,
          0.41088433531746027,
          0.3875243617724868,
          0.4606669956927494,
          0.5550322222222221,
          0.5017838128306877,
          0.526125033068783,
          0.6108328273809522,
          0.6089338029100528,
          0.7183691373534338,
          0.6830552763819095,
          0.8379939578846612,
          0.8080148908730158,
          0.8459745386987848,
          0.9299263425925924,
          0.8631347685185184,
          1.020141240079365,
          1.0342033862433861,
          1.077600228174603,
          1.0577733399470899,
          1.1014675128286937,
          1.1203929894179894,
          1.2198803869047619,
          1.2451952314814814,
          1.3316906722767272,
          1.3769161706349207,
          1.3482610945767195,
          1.4144417922948072,
          1.4555095436507934,
          1.520688373015873,
          1.5668004596560845,
          1.5738395568783068,
          1.6123700628306878,
          1.7309643849206346,
          1.7258315386456087,
          1.7322810350529099,
          1.7749478935185183,
          1.8770046825396824,
          1.8654466790925122,
          1.8195434424603172,
          1.9362192989417988,
          2.0122466402116403,
          2.036809057539682,
          2.0335370634920635
         ]
        },
        {
         "marker": {
          "color": "red",
          "size": 5
         },
         "mode": "markers",
         "name": "High Frequency (7-12) Words",
         "type": "scatter",
         "x": [
          "0-200",
          "200-400",
          "400-600",
          "600-800",
          "800-1000",
          "1000-1200",
          "1200-1400",
          "1400-1600",
          "1600-1800",
          "1800-2000",
          "2000-2200",
          "2200-2400",
          "2400-2600",
          "2600-2800",
          "2800-3000",
          "3000-3200",
          "3200-3400",
          "3400-3600",
          "3600-3800",
          "3800-4000",
          "4000-4200",
          "4200-4400",
          "4400-4600",
          "4600-4800",
          "4800-5000",
          "5000-5200",
          "5200-5400",
          "5400-5600",
          "5600-5800",
          "5800-6000",
          "6000-6200",
          "6200-6400",
          "6400-6600",
          "6600-6800",
          "6800-7000",
          "7000-7200",
          "7200-7400",
          "7400-7600",
          "7600-7800",
          "7800-8000",
          "8000-8200",
          "8200-8400",
          "8400-8600",
          "8600-8800",
          "8800-9000",
          "9000-9200",
          "9200-9400",
          "9400-9600",
          "9600-9800",
          "9800-10000"
         ],
         "y": [
          0.015497567447433531,
          0.03309305068113105,
          0.0927284469499862,
          0.17597057230467944,
          0.21362445862393772,
          0.2657526673067921,
          0.33678508438265875,
          0.3284624450155677,
          0.4246596326000938,
          0.5256412329001465,
          0.42560472885745204,
          0.5469399975305778,
          0.5372590473899997,
          0.48999766283870444,
          0.5354015989830274,
          0.6271236021103362,
          0.6443913300736961,
          0.6188468397838932,
          0.6878243147253824,
          0.7485891004545736,
          0.8111008778044045,
          0.8390165910164569,
          0.9289231075995211,
          1.0060887089861195,
          0.9915489566036048,
          0.9998498527907177,
          1.0005186600414575,
          1.0992815135884648,
          1.1346085194534135,
          1.1995215212284407,
          1.2206579998969282,
          1.2330108699666733,
          1.3401939335890076,
          1.3449946393355319,
          1.384637144424689,
          1.4198534110664465,
          1.4885825306852538,
          1.4626131266170748,
          1.5489322063606585,
          1.6078644675568037,
          1.598896750390813,
          1.7185100353449458,
          1.7486811626755077,
          1.856954205118074,
          1.870833788852241,
          1.853796985894947,
          1.81429871498431,
          1.9578361915927984,
          1.9945549246289422,
          2.004835325204998
         ]
        },
        {
         "line": {
          "color": "black"
         },
         "mode": "lines",
         "name": "Regression (1-6)",
         "type": "scatter",
         "x": [
          "0-200",
          "200-400",
          "400-600",
          "600-800",
          "800-1000",
          "1000-1200",
          "1200-1400",
          "1400-1600",
          "1600-1800",
          "1800-2000",
          "2000-2200",
          "2200-2400",
          "2400-2600",
          "2600-2800",
          "2800-3000",
          "3000-3200",
          "3200-3400",
          "3400-3600",
          "3600-3800",
          "3800-4000",
          "4000-4200",
          "4200-4400",
          "4400-4600",
          "4600-4800",
          "4800-5000",
          "5000-5200",
          "5200-5400",
          "5400-5600",
          "5600-5800",
          "5800-6000",
          "6000-6200",
          "6200-6400",
          "6400-6600",
          "6600-6800",
          "6800-7000",
          "7000-7200",
          "7200-7400",
          "7400-7600",
          "7600-7800",
          "7800-8000",
          "8000-8200",
          "8200-8400",
          "8400-8600",
          "8600-8800",
          "8800-9000",
          "9000-9200",
          "9200-9400",
          "9400-9600",
          "9600-9800",
          "9800-10000"
         ],
         "y": [
          0.07569463003195466,
          0.11642013973447612,
          0.1571456494369976,
          0.19787115913951905,
          0.2385966688420405,
          0.279322178544562,
          0.32004768824708346,
          0.3607731979496049,
          0.40149870765212636,
          0.44222421735464784,
          0.4829497270571693,
          0.5236752367596909,
          0.5644007464622123,
          0.6051262561647337,
          0.6458517658672551,
          0.6865772755697767,
          0.7273027852722981,
          0.7680282949748196,
          0.808753804677341,
          0.8494793143798625,
          0.890204824082384,
          0.9309303337849054,
          0.971655843487427,
          1.0123813531899484,
          1.0531068628924698,
          1.0938323725949914,
          1.1345578822975129,
          1.1752833920000343,
          1.2160089017025557,
          1.2567344114050774,
          1.2974599211075988,
          1.3381854308101202,
          1.3789109405126416,
          1.419636450215163,
          1.4603619599176847,
          1.5010874696202061,
          1.5418129793227275,
          1.582538489025249,
          1.6232639987277704,
          1.663989508430292,
          1.7047150181328135,
          1.7454405278353349,
          1.7861660375378563,
          1.8268915472403777,
          1.8676170569428994,
          1.9083425666454208,
          1.9490680763479422,
          1.9897935860504636,
          2.030519095752985,
          2.0712446054555067
         ]
        },
        {
         "line": {
          "color": "gold"
         },
         "mode": "lines",
         "name": "Regression (7-12)",
         "type": "scatter",
         "x": [
          "0-200",
          "200-400",
          "400-600",
          "600-800",
          "800-1000",
          "1000-1200",
          "1200-1400",
          "1400-1600",
          "1600-1800",
          "1800-2000",
          "2000-2200",
          "2200-2400",
          "2400-2600",
          "2600-2800",
          "2800-3000",
          "3000-3200",
          "3200-3400",
          "3400-3600",
          "3600-3800",
          "3800-4000",
          "4000-4200",
          "4200-4400",
          "4400-4600",
          "4600-4800",
          "4800-5000",
          "5000-5200",
          "5200-5400",
          "5400-5600",
          "5600-5800",
          "5800-6000",
          "6000-6200",
          "6200-6400",
          "6400-6600",
          "6600-6800",
          "6800-7000",
          "7000-7200",
          "7200-7400",
          "7400-7600",
          "7600-7800",
          "7800-8000",
          "8000-8200",
          "8200-8400",
          "8400-8600",
          "8600-8800",
          "8800-9000",
          "9000-9200",
          "9200-9400",
          "9400-9600",
          "9600-9800",
          "9800-10000"
         ],
         "y": [
          0.029648295812750587,
          0.06987096953815612,
          0.11009364326356166,
          0.1503163169889672,
          0.19053899071437272,
          0.23076166443977825,
          0.2709843381651838,
          0.3112070118905893,
          0.35142968561599486,
          0.39165235934140036,
          0.4318750330668059,
          0.4720977067922114,
          0.512320380517617,
          0.5525430542430225,
          0.5927657279684281,
          0.6329884016938336,
          0.6732110754192392,
          0.7134337491446446,
          0.7536564228700502,
          0.7938790965954557,
          0.8341017703208613,
          0.8743244440462669,
          0.9145471177716723,
          0.9547697914970779,
          0.9949924652224834,
          1.035215138947889,
          1.0754378126732944,
          1.1156604863987,
          1.1558831601241055,
          1.196105833849511,
          1.2363285075749166,
          1.276551181300322,
          1.3167738550257277,
          1.3569965287511332,
          1.3972192024765386,
          1.4374418762019443,
          1.4776645499273497,
          1.5178872236527554,
          1.5581098973781609,
          1.5983325711035663,
          1.638555244828972,
          1.6787779185543774,
          1.719000592279783,
          1.7592232660051885,
          1.799445939730594,
          1.8396686134559996,
          1.879891287181405,
          1.9201139609068107,
          1.9603366346322162,
          2.0005593083576216
         ]
        },
        {
         "line": {
          "color": "purple"
         },
         "mode": "lines",
         "name": "Difference Regression",
         "type": "scatter",
         "x": [
          "0-200",
          "200-400",
          "400-600",
          "600-800",
          "800-1000",
          "1000-1200",
          "1200-1400",
          "1400-1600",
          "1600-1800",
          "1800-2000",
          "2000-2200",
          "2200-2400",
          "2400-2600",
          "2600-2800",
          "2800-3000",
          "3000-3200",
          "3200-3400",
          "3400-3600",
          "3600-3800",
          "3800-4000",
          "4000-4200",
          "4200-4400",
          "4400-4600",
          "4600-4800",
          "4800-5000",
          "5000-5200",
          "5200-5400",
          "5400-5600",
          "5600-5800",
          "5800-6000",
          "6000-6200",
          "6200-6400",
          "6400-6600",
          "6600-6800",
          "6800-7000",
          "7000-7200",
          "7200-7400",
          "7400-7600",
          "7600-7800",
          "7800-8000",
          "8000-8200",
          "8200-8400",
          "8400-8600",
          "8600-8800",
          "8800-9000",
          "9000-9200",
          "9200-9400",
          "9400-9600",
          "9600-9800",
          "9800-10000"
         ],
         "y": [
          -0.046046334219204295,
          -0.046549170196320225,
          -0.04705200617343616,
          -0.04755484215055209,
          -0.04805767812766803,
          -0.04856051410478396,
          -0.049063350081899895,
          -0.049566186059015825,
          -0.05006902203613176,
          -0.05057185801324769,
          -0.05107469399036363,
          -0.05157752996747956,
          -0.052080365944595496,
          -0.052583201921711425,
          -0.05308603789882736,
          -0.05358887387594329,
          -0.05409170985305922,
          -0.05459454583017516,
          -0.055097381807291096,
          -0.055600217784407026,
          -0.056103053761522956,
          -0.05660588973863889,
          -0.05710872571575482,
          -0.05761156169287076,
          -0.05811439766998669,
          -0.058617233647102626,
          -0.059120069624218556,
          -0.05962290560133449,
          -0.06012574157845042,
          -0.06062857755556636,
          -0.06113141353268229,
          -0.06163424950979822,
          -0.062137085486914156,
          -0.0626399214640301,
          -0.06314275744114603,
          -0.06364559341826195,
          -0.06414842939537789,
          -0.06465126537249383,
          -0.06515410134960975,
          -0.06565693732672569,
          -0.06615977330384162,
          -0.06666260928095756,
          -0.06716544525807348,
          -0.06766828123518942,
          -0.06817111721230536,
          -0.0686739531894213,
          -0.06917678916653722,
          -0.06967962514365315,
          -0.07018246112076909,
          -0.07068529709788501
         ]
        }
       ],
       "layout": {
        "font": {
         "color": "Black",
         "family": "Arial",
         "size": 12
        },
        "plot_bgcolor": "rgba(0,0,0,0)",
        "template": {
         "data": {
          "bar": [
           {
            "error_x": {
             "color": "#2a3f5f"
            },
            "error_y": {
             "color": "#2a3f5f"
            },
            "marker": {
             "line": {
              "color": "#E5ECF6",
              "width": 0.5
             },
             "pattern": {
              "fillmode": "overlay",
              "size": 10,
              "solidity": 0.2
             }
            },
            "type": "bar"
           }
          ],
          "barpolar": [
           {
            "marker": {
             "line": {
              "color": "#E5ECF6",
              "width": 0.5
             },
             "pattern": {
              "fillmode": "overlay",
              "size": 10,
              "solidity": 0.2
             }
            },
            "type": "barpolar"
           }
          ],
          "carpet": [
           {
            "aaxis": {
             "endlinecolor": "#2a3f5f",
             "gridcolor": "white",
             "linecolor": "white",
             "minorgridcolor": "white",
             "startlinecolor": "#2a3f5f"
            },
            "baxis": {
             "endlinecolor": "#2a3f5f",
             "gridcolor": "white",
             "linecolor": "white",
             "minorgridcolor": "white",
             "startlinecolor": "#2a3f5f"
            },
            "type": "carpet"
           }
          ],
          "choropleth": [
           {
            "colorbar": {
             "outlinewidth": 0,
             "ticks": ""
            },
            "type": "choropleth"
           }
          ],
          "contour": [
           {
            "colorbar": {
             "outlinewidth": 0,
             "ticks": ""
            },
            "colorscale": [
             [
              0,
              "#0d0887"
             ],
             [
              0.1111111111111111,
              "#46039f"
             ],
             [
              0.2222222222222222,
              "#7201a8"
             ],
             [
              0.3333333333333333,
              "#9c179e"
             ],
             [
              0.4444444444444444,
              "#bd3786"
             ],
             [
              0.5555555555555556,
              "#d8576b"
             ],
             [
              0.6666666666666666,
              "#ed7953"
             ],
             [
              0.7777777777777778,
              "#fb9f3a"
             ],
             [
              0.8888888888888888,
              "#fdca26"
             ],
             [
              1,
              "#f0f921"
             ]
            ],
            "type": "contour"
           }
          ],
          "contourcarpet": [
           {
            "colorbar": {
             "outlinewidth": 0,
             "ticks": ""
            },
            "type": "contourcarpet"
           }
          ],
          "heatmap": [
           {
            "colorbar": {
             "outlinewidth": 0,
             "ticks": ""
            },
            "colorscale": [
             [
              0,
              "#0d0887"
             ],
             [
              0.1111111111111111,
              "#46039f"
             ],
             [
              0.2222222222222222,
              "#7201a8"
             ],
             [
              0.3333333333333333,
              "#9c179e"
             ],
             [
              0.4444444444444444,
              "#bd3786"
             ],
             [
              0.5555555555555556,
              "#d8576b"
             ],
             [
              0.6666666666666666,
              "#ed7953"
             ],
             [
              0.7777777777777778,
              "#fb9f3a"
             ],
             [
              0.8888888888888888,
              "#fdca26"
             ],
             [
              1,
              "#f0f921"
             ]
            ],
            "type": "heatmap"
           }
          ],
          "heatmapgl": [
           {
            "colorbar": {
             "outlinewidth": 0,
             "ticks": ""
            },
            "colorscale": [
             [
              0,
              "#0d0887"
             ],
             [
              0.1111111111111111,
              "#46039f"
             ],
             [
              0.2222222222222222,
              "#7201a8"
             ],
             [
              0.3333333333333333,
              "#9c179e"
             ],
             [
              0.4444444444444444,
              "#bd3786"
             ],
             [
              0.5555555555555556,
              "#d8576b"
             ],
             [
              0.6666666666666666,
              "#ed7953"
             ],
             [
              0.7777777777777778,
              "#fb9f3a"
             ],
             [
              0.8888888888888888,
              "#fdca26"
             ],
             [
              1,
              "#f0f921"
             ]
            ],
            "type": "heatmapgl"
           }
          ],
          "histogram": [
           {
            "marker": {
             "pattern": {
              "fillmode": "overlay",
              "size": 10,
              "solidity": 0.2
             }
            },
            "type": "histogram"
           }
          ],
          "histogram2d": [
           {
            "colorbar": {
             "outlinewidth": 0,
             "ticks": ""
            },
            "colorscale": [
             [
              0,
              "#0d0887"
             ],
             [
              0.1111111111111111,
              "#46039f"
             ],
             [
              0.2222222222222222,
              "#7201a8"
             ],
             [
              0.3333333333333333,
              "#9c179e"
             ],
             [
              0.4444444444444444,
              "#bd3786"
             ],
             [
              0.5555555555555556,
              "#d8576b"
             ],
             [
              0.6666666666666666,
              "#ed7953"
             ],
             [
              0.7777777777777778,
              "#fb9f3a"
             ],
             [
              0.8888888888888888,
              "#fdca26"
             ],
             [
              1,
              "#f0f921"
             ]
            ],
            "type": "histogram2d"
           }
          ],
          "histogram2dcontour": [
           {
            "colorbar": {
             "outlinewidth": 0,
             "ticks": ""
            },
            "colorscale": [
             [
              0,
              "#0d0887"
             ],
             [
              0.1111111111111111,
              "#46039f"
             ],
             [
              0.2222222222222222,
              "#7201a8"
             ],
             [
              0.3333333333333333,
              "#9c179e"
             ],
             [
              0.4444444444444444,
              "#bd3786"
             ],
             [
              0.5555555555555556,
              "#d8576b"
             ],
             [
              0.6666666666666666,
              "#ed7953"
             ],
             [
              0.7777777777777778,
              "#fb9f3a"
             ],
             [
              0.8888888888888888,
              "#fdca26"
             ],
             [
              1,
              "#f0f921"
             ]
            ],
            "type": "histogram2dcontour"
           }
          ],
          "mesh3d": [
           {
            "colorbar": {
             "outlinewidth": 0,
             "ticks": ""
            },
            "type": "mesh3d"
           }
          ],
          "parcoords": [
           {
            "line": {
             "colorbar": {
              "outlinewidth": 0,
              "ticks": ""
             }
            },
            "type": "parcoords"
           }
          ],
          "pie": [
           {
            "automargin": true,
            "type": "pie"
           }
          ],
          "scatter": [
           {
            "fillpattern": {
             "fillmode": "overlay",
             "size": 10,
             "solidity": 0.2
            },
            "type": "scatter"
           }
          ],
          "scatter3d": [
           {
            "line": {
             "colorbar": {
              "outlinewidth": 0,
              "ticks": ""
             }
            },
            "marker": {
             "colorbar": {
              "outlinewidth": 0,
              "ticks": ""
             }
            },
            "type": "scatter3d"
           }
          ],
          "scattercarpet": [
           {
            "marker": {
             "colorbar": {
              "outlinewidth": 0,
              "ticks": ""
             }
            },
            "type": "scattercarpet"
           }
          ],
          "scattergeo": [
           {
            "marker": {
             "colorbar": {
              "outlinewidth": 0,
              "ticks": ""
             }
            },
            "type": "scattergeo"
           }
          ],
          "scattergl": [
           {
            "marker": {
             "colorbar": {
              "outlinewidth": 0,
              "ticks": ""
             }
            },
            "type": "scattergl"
           }
          ],
          "scattermapbox": [
           {
            "marker": {
             "colorbar": {
              "outlinewidth": 0,
              "ticks": ""
             }
            },
            "type": "scattermapbox"
           }
          ],
          "scatterpolar": [
           {
            "marker": {
             "colorbar": {
              "outlinewidth": 0,
              "ticks": ""
             }
            },
            "type": "scatterpolar"
           }
          ],
          "scatterpolargl": [
           {
            "marker": {
             "colorbar": {
              "outlinewidth": 0,
              "ticks": ""
             }
            },
            "type": "scatterpolargl"
           }
          ],
          "scatterternary": [
           {
            "marker": {
             "colorbar": {
              "outlinewidth": 0,
              "ticks": ""
             }
            },
            "type": "scatterternary"
           }
          ],
          "surface": [
           {
            "colorbar": {
             "outlinewidth": 0,
             "ticks": ""
            },
            "colorscale": [
             [
              0,
              "#0d0887"
             ],
             [
              0.1111111111111111,
              "#46039f"
             ],
             [
              0.2222222222222222,
              "#7201a8"
             ],
             [
              0.3333333333333333,
              "#9c179e"
             ],
             [
              0.4444444444444444,
              "#bd3786"
             ],
             [
              0.5555555555555556,
              "#d8576b"
             ],
             [
              0.6666666666666666,
              "#ed7953"
             ],
             [
              0.7777777777777778,
              "#fb9f3a"
             ],
             [
              0.8888888888888888,
              "#fdca26"
             ],
             [
              1,
              "#f0f921"
             ]
            ],
            "type": "surface"
           }
          ],
          "table": [
           {
            "cells": {
             "fill": {
              "color": "#EBF0F8"
             },
             "line": {
              "color": "white"
             }
            },
            "header": {
             "fill": {
              "color": "#C8D4E3"
             },
             "line": {
              "color": "white"
             }
            },
            "type": "table"
           }
          ]
         },
         "layout": {
          "annotationdefaults": {
           "arrowcolor": "#2a3f5f",
           "arrowhead": 0,
           "arrowwidth": 1
          },
          "autotypenumbers": "strict",
          "coloraxis": {
           "colorbar": {
            "outlinewidth": 0,
            "ticks": ""
           }
          },
          "colorscale": {
           "diverging": [
            [
             0,
             "#8e0152"
            ],
            [
             0.1,
             "#c51b7d"
            ],
            [
             0.2,
             "#de77ae"
            ],
            [
             0.3,
             "#f1b6da"
            ],
            [
             0.4,
             "#fde0ef"
            ],
            [
             0.5,
             "#f7f7f7"
            ],
            [
             0.6,
             "#e6f5d0"
            ],
            [
             0.7,
             "#b8e186"
            ],
            [
             0.8,
             "#7fbc41"
            ],
            [
             0.9,
             "#4d9221"
            ],
            [
             1,
             "#276419"
            ]
           ],
           "sequential": [
            [
             0,
             "#0d0887"
            ],
            [
             0.1111111111111111,
             "#46039f"
            ],
            [
             0.2222222222222222,
             "#7201a8"
            ],
            [
             0.3333333333333333,
             "#9c179e"
            ],
            [
             0.4444444444444444,
             "#bd3786"
            ],
            [
             0.5555555555555556,
             "#d8576b"
            ],
            [
             0.6666666666666666,
             "#ed7953"
            ],
            [
             0.7777777777777778,
             "#fb9f3a"
            ],
            [
             0.8888888888888888,
             "#fdca26"
            ],
            [
             1,
             "#f0f921"
            ]
           ],
           "sequentialminus": [
            [
             0,
             "#0d0887"
            ],
            [
             0.1111111111111111,
             "#46039f"
            ],
            [
             0.2222222222222222,
             "#7201a8"
            ],
            [
             0.3333333333333333,
             "#9c179e"
            ],
            [
             0.4444444444444444,
             "#bd3786"
            ],
            [
             0.5555555555555556,
             "#d8576b"
            ],
            [
             0.6666666666666666,
             "#ed7953"
            ],
            [
             0.7777777777777778,
             "#fb9f3a"
            ],
            [
             0.8888888888888888,
             "#fdca26"
            ],
            [
             1,
             "#f0f921"
            ]
           ]
          },
          "colorway": [
           "#636efa",
           "#EF553B",
           "#00cc96",
           "#ab63fa",
           "#FFA15A",
           "#19d3f3",
           "#FF6692",
           "#B6E880",
           "#FF97FF",
           "#FECB52"
          ],
          "font": {
           "color": "#2a3f5f"
          },
          "geo": {
           "bgcolor": "white",
           "lakecolor": "white",
           "landcolor": "#E5ECF6",
           "showlakes": true,
           "showland": true,
           "subunitcolor": "white"
          },
          "hoverlabel": {
           "align": "left"
          },
          "hovermode": "closest",
          "mapbox": {
           "style": "light"
          },
          "paper_bgcolor": "white",
          "plot_bgcolor": "#E5ECF6",
          "polar": {
           "angularaxis": {
            "gridcolor": "white",
            "linecolor": "white",
            "ticks": ""
           },
           "bgcolor": "#E5ECF6",
           "radialaxis": {
            "gridcolor": "white",
            "linecolor": "white",
            "ticks": ""
           }
          },
          "scene": {
           "xaxis": {
            "backgroundcolor": "#E5ECF6",
            "gridcolor": "white",
            "gridwidth": 2,
            "linecolor": "white",
            "showbackground": true,
            "ticks": "",
            "zerolinecolor": "white"
           },
           "yaxis": {
            "backgroundcolor": "#E5ECF6",
            "gridcolor": "white",
            "gridwidth": 2,
            "linecolor": "white",
            "showbackground": true,
            "ticks": "",
            "zerolinecolor": "white"
           },
           "zaxis": {
            "backgroundcolor": "#E5ECF6",
            "gridcolor": "white",
            "gridwidth": 2,
            "linecolor": "white",
            "showbackground": true,
            "ticks": "",
            "zerolinecolor": "white"
           }
          },
          "shapedefaults": {
           "line": {
            "color": "#2a3f5f"
           }
          },
          "ternary": {
           "aaxis": {
            "gridcolor": "white",
            "linecolor": "white",
            "ticks": ""
           },
           "baxis": {
            "gridcolor": "white",
            "linecolor": "white",
            "ticks": ""
           },
           "bgcolor": "#E5ECF6",
           "caxis": {
            "gridcolor": "white",
            "linecolor": "white",
            "ticks": ""
           }
          },
          "title": {
           "x": 0.05
          },
          "xaxis": {
           "automargin": true,
           "gridcolor": "white",
           "linecolor": "white",
           "ticks": "",
           "title": {
            "standoff": 15
           },
           "zerolinecolor": "white",
           "zerolinewidth": 2
          },
          "yaxis": {
           "automargin": true,
           "gridcolor": "white",
           "linecolor": "white",
           "ticks": "",
           "title": {
            "standoff": 15
           },
           "zerolinecolor": "white",
           "zerolinewidth": 2
          }
         }
        },
        "title": {
         "text": "Average Exemplar means over time (averaged per 200 iterations)"
        },
        "width": 1500,
        "xaxis": {
         "title": {
          "text": "Iteration"
         }
        },
        "yaxis": {
         "title": {
          "text": "Mean"
         }
        }
       }
      },
      "text/html": [
       "<div>                            <div id=\"db51356d-e351-4cf8-9827-f030b82ce9c9\" class=\"plotly-graph-div\" style=\"height:525px; width:1500px;\"></div>            <script type=\"text/javascript\">                require([\"plotly\"], function(Plotly) {                    window.PLOTLYENV=window.PLOTLYENV || {};                                    if (document.getElementById(\"db51356d-e351-4cf8-9827-f030b82ce9c9\")) {                    Plotly.newPlot(                        \"db51356d-e351-4cf8-9827-f030b82ce9c9\",                        [{\"marker\":{\"color\":\"blue\",\"size\":5},\"mode\":\"markers\",\"name\":\"Low Frequency (1-6) Words\",\"x\":[\"0-200\",\"200-400\",\"400-600\",\"600-800\",\"800-1000\",\"1000-1200\",\"1200-1400\",\"1400-1600\",\"1600-1800\",\"1800-2000\",\"2000-2200\",\"2200-2400\",\"2400-2600\",\"2600-2800\",\"2800-3000\",\"3000-3200\",\"3200-3400\",\"3400-3600\",\"3600-3800\",\"3800-4000\",\"4000-4200\",\"4200-4400\",\"4400-4600\",\"4600-4800\",\"4800-5000\",\"5000-5200\",\"5200-5400\",\"5400-5600\",\"5600-5800\",\"5800-6000\",\"6000-6200\",\"6200-6400\",\"6400-6600\",\"6600-6800\",\"6800-7000\",\"7000-7200\",\"7200-7400\",\"7400-7600\",\"7600-7800\",\"7800-8000\",\"8000-8200\",\"8200-8400\",\"8400-8600\",\"8600-8800\",\"8800-9000\",\"9000-9200\",\"9200-9400\",\"9400-9600\",\"9600-9800\",\"9800-10000\"],\"y\":[0.053913432539682477,0.06958414682539678,0.16714064484126978,0.18771937499999997,0.21569349867724863,0.2957470221477758,0.3134267063492063,0.41088433531746027,0.3875243617724868,0.4606669956927494,0.5550322222222221,0.5017838128306877,0.526125033068783,0.6108328273809522,0.6089338029100528,0.7183691373534338,0.6830552763819095,0.8379939578846612,0.8080148908730158,0.8459745386987848,0.9299263425925924,0.8631347685185184,1.020141240079365,1.0342033862433861,1.077600228174603,1.0577733399470899,1.1014675128286937,1.1203929894179894,1.2198803869047619,1.2451952314814814,1.3316906722767272,1.3769161706349207,1.3482610945767195,1.4144417922948072,1.4555095436507934,1.520688373015873,1.5668004596560845,1.5738395568783068,1.6123700628306878,1.7309643849206346,1.7258315386456087,1.7322810350529099,1.7749478935185183,1.8770046825396824,1.8654466790925122,1.8195434424603172,1.9362192989417988,2.0122466402116403,2.036809057539682,2.0335370634920635],\"type\":\"scatter\"},{\"marker\":{\"color\":\"red\",\"size\":5},\"mode\":\"markers\",\"name\":\"High Frequency (7-12) Words\",\"x\":[\"0-200\",\"200-400\",\"400-600\",\"600-800\",\"800-1000\",\"1000-1200\",\"1200-1400\",\"1400-1600\",\"1600-1800\",\"1800-2000\",\"2000-2200\",\"2200-2400\",\"2400-2600\",\"2600-2800\",\"2800-3000\",\"3000-3200\",\"3200-3400\",\"3400-3600\",\"3600-3800\",\"3800-4000\",\"4000-4200\",\"4200-4400\",\"4400-4600\",\"4600-4800\",\"4800-5000\",\"5000-5200\",\"5200-5400\",\"5400-5600\",\"5600-5800\",\"5800-6000\",\"6000-6200\",\"6200-6400\",\"6400-6600\",\"6600-6800\",\"6800-7000\",\"7000-7200\",\"7200-7400\",\"7400-7600\",\"7600-7800\",\"7800-8000\",\"8000-8200\",\"8200-8400\",\"8400-8600\",\"8600-8800\",\"8800-9000\",\"9000-9200\",\"9200-9400\",\"9400-9600\",\"9600-9800\",\"9800-10000\"],\"y\":[0.015497567447433531,0.03309305068113105,0.0927284469499862,0.17597057230467944,0.21362445862393772,0.2657526673067921,0.33678508438265875,0.3284624450155677,0.4246596326000938,0.5256412329001465,0.42560472885745204,0.5469399975305778,0.5372590473899997,0.48999766283870444,0.5354015989830274,0.6271236021103362,0.6443913300736961,0.6188468397838932,0.6878243147253824,0.7485891004545736,0.8111008778044045,0.8390165910164569,0.9289231075995211,1.0060887089861195,0.9915489566036048,0.9998498527907177,1.0005186600414575,1.0992815135884648,1.1346085194534135,1.1995215212284407,1.2206579998969282,1.2330108699666733,1.3401939335890076,1.3449946393355319,1.384637144424689,1.4198534110664465,1.4885825306852538,1.4626131266170748,1.5489322063606585,1.6078644675568037,1.598896750390813,1.7185100353449458,1.7486811626755077,1.856954205118074,1.870833788852241,1.853796985894947,1.81429871498431,1.9578361915927984,1.9945549246289422,2.004835325204998],\"type\":\"scatter\"},{\"line\":{\"color\":\"black\"},\"mode\":\"lines\",\"name\":\"Regression (1-6)\",\"x\":[\"0-200\",\"200-400\",\"400-600\",\"600-800\",\"800-1000\",\"1000-1200\",\"1200-1400\",\"1400-1600\",\"1600-1800\",\"1800-2000\",\"2000-2200\",\"2200-2400\",\"2400-2600\",\"2600-2800\",\"2800-3000\",\"3000-3200\",\"3200-3400\",\"3400-3600\",\"3600-3800\",\"3800-4000\",\"4000-4200\",\"4200-4400\",\"4400-4600\",\"4600-4800\",\"4800-5000\",\"5000-5200\",\"5200-5400\",\"5400-5600\",\"5600-5800\",\"5800-6000\",\"6000-6200\",\"6200-6400\",\"6400-6600\",\"6600-6800\",\"6800-7000\",\"7000-7200\",\"7200-7400\",\"7400-7600\",\"7600-7800\",\"7800-8000\",\"8000-8200\",\"8200-8400\",\"8400-8600\",\"8600-8800\",\"8800-9000\",\"9000-9200\",\"9200-9400\",\"9400-9600\",\"9600-9800\",\"9800-10000\"],\"y\":[0.07569463003195466,0.11642013973447612,0.1571456494369976,0.19787115913951905,0.2385966688420405,0.279322178544562,0.32004768824708346,0.3607731979496049,0.40149870765212636,0.44222421735464784,0.4829497270571693,0.5236752367596909,0.5644007464622123,0.6051262561647337,0.6458517658672551,0.6865772755697767,0.7273027852722981,0.7680282949748196,0.808753804677341,0.8494793143798625,0.890204824082384,0.9309303337849054,0.971655843487427,1.0123813531899484,1.0531068628924698,1.0938323725949914,1.1345578822975129,1.1752833920000343,1.2160089017025557,1.2567344114050774,1.2974599211075988,1.3381854308101202,1.3789109405126416,1.419636450215163,1.4603619599176847,1.5010874696202061,1.5418129793227275,1.582538489025249,1.6232639987277704,1.663989508430292,1.7047150181328135,1.7454405278353349,1.7861660375378563,1.8268915472403777,1.8676170569428994,1.9083425666454208,1.9490680763479422,1.9897935860504636,2.030519095752985,2.0712446054555067],\"type\":\"scatter\"},{\"line\":{\"color\":\"gold\"},\"mode\":\"lines\",\"name\":\"Regression (7-12)\",\"x\":[\"0-200\",\"200-400\",\"400-600\",\"600-800\",\"800-1000\",\"1000-1200\",\"1200-1400\",\"1400-1600\",\"1600-1800\",\"1800-2000\",\"2000-2200\",\"2200-2400\",\"2400-2600\",\"2600-2800\",\"2800-3000\",\"3000-3200\",\"3200-3400\",\"3400-3600\",\"3600-3800\",\"3800-4000\",\"4000-4200\",\"4200-4400\",\"4400-4600\",\"4600-4800\",\"4800-5000\",\"5000-5200\",\"5200-5400\",\"5400-5600\",\"5600-5800\",\"5800-6000\",\"6000-6200\",\"6200-6400\",\"6400-6600\",\"6600-6800\",\"6800-7000\",\"7000-7200\",\"7200-7400\",\"7400-7600\",\"7600-7800\",\"7800-8000\",\"8000-8200\",\"8200-8400\",\"8400-8600\",\"8600-8800\",\"8800-9000\",\"9000-9200\",\"9200-9400\",\"9400-9600\",\"9600-9800\",\"9800-10000\"],\"y\":[0.029648295812750587,0.06987096953815612,0.11009364326356166,0.1503163169889672,0.19053899071437272,0.23076166443977825,0.2709843381651838,0.3112070118905893,0.35142968561599486,0.39165235934140036,0.4318750330668059,0.4720977067922114,0.512320380517617,0.5525430542430225,0.5927657279684281,0.6329884016938336,0.6732110754192392,0.7134337491446446,0.7536564228700502,0.7938790965954557,0.8341017703208613,0.8743244440462669,0.9145471177716723,0.9547697914970779,0.9949924652224834,1.035215138947889,1.0754378126732944,1.1156604863987,1.1558831601241055,1.196105833849511,1.2363285075749166,1.276551181300322,1.3167738550257277,1.3569965287511332,1.3972192024765386,1.4374418762019443,1.4776645499273497,1.5178872236527554,1.5581098973781609,1.5983325711035663,1.638555244828972,1.6787779185543774,1.719000592279783,1.7592232660051885,1.799445939730594,1.8396686134559996,1.879891287181405,1.9201139609068107,1.9603366346322162,2.0005593083576216],\"type\":\"scatter\"},{\"line\":{\"color\":\"purple\"},\"mode\":\"lines\",\"name\":\"Difference Regression\",\"x\":[\"0-200\",\"200-400\",\"400-600\",\"600-800\",\"800-1000\",\"1000-1200\",\"1200-1400\",\"1400-1600\",\"1600-1800\",\"1800-2000\",\"2000-2200\",\"2200-2400\",\"2400-2600\",\"2600-2800\",\"2800-3000\",\"3000-3200\",\"3200-3400\",\"3400-3600\",\"3600-3800\",\"3800-4000\",\"4000-4200\",\"4200-4400\",\"4400-4600\",\"4600-4800\",\"4800-5000\",\"5000-5200\",\"5200-5400\",\"5400-5600\",\"5600-5800\",\"5800-6000\",\"6000-6200\",\"6200-6400\",\"6400-6600\",\"6600-6800\",\"6800-7000\",\"7000-7200\",\"7200-7400\",\"7400-7600\",\"7600-7800\",\"7800-8000\",\"8000-8200\",\"8200-8400\",\"8400-8600\",\"8600-8800\",\"8800-9000\",\"9000-9200\",\"9200-9400\",\"9400-9600\",\"9600-9800\",\"9800-10000\"],\"y\":[-0.046046334219204295,-0.046549170196320225,-0.04705200617343616,-0.04755484215055209,-0.04805767812766803,-0.04856051410478396,-0.049063350081899895,-0.049566186059015825,-0.05006902203613176,-0.05057185801324769,-0.05107469399036363,-0.05157752996747956,-0.052080365944595496,-0.052583201921711425,-0.05308603789882736,-0.05358887387594329,-0.05409170985305922,-0.05459454583017516,-0.055097381807291096,-0.055600217784407026,-0.056103053761522956,-0.05660588973863889,-0.05710872571575482,-0.05761156169287076,-0.05811439766998669,-0.058617233647102626,-0.059120069624218556,-0.05962290560133449,-0.06012574157845042,-0.06062857755556636,-0.06113141353268229,-0.06163424950979822,-0.062137085486914156,-0.0626399214640301,-0.06314275744114603,-0.06364559341826195,-0.06414842939537789,-0.06465126537249383,-0.06515410134960975,-0.06565693732672569,-0.06615977330384162,-0.06666260928095756,-0.06716544525807348,-0.06766828123518942,-0.06817111721230536,-0.0686739531894213,-0.06917678916653722,-0.06967962514365315,-0.07018246112076909,-0.07068529709788501],\"type\":\"scatter\"}],                        {\"template\":{\"data\":{\"histogram2dcontour\":[{\"type\":\"histogram2dcontour\",\"colorbar\":{\"outlinewidth\":0,\"ticks\":\"\"},\"colorscale\":[[0.0,\"#0d0887\"],[0.1111111111111111,\"#46039f\"],[0.2222222222222222,\"#7201a8\"],[0.3333333333333333,\"#9c179e\"],[0.4444444444444444,\"#bd3786\"],[0.5555555555555556,\"#d8576b\"],[0.6666666666666666,\"#ed7953\"],[0.7777777777777778,\"#fb9f3a\"],[0.8888888888888888,\"#fdca26\"],[1.0,\"#f0f921\"]]}],\"choropleth\":[{\"type\":\"choropleth\",\"colorbar\":{\"outlinewidth\":0,\"ticks\":\"\"}}],\"histogram2d\":[{\"type\":\"histogram2d\",\"colorbar\":{\"outlinewidth\":0,\"ticks\":\"\"},\"colorscale\":[[0.0,\"#0d0887\"],[0.1111111111111111,\"#46039f\"],[0.2222222222222222,\"#7201a8\"],[0.3333333333333333,\"#9c179e\"],[0.4444444444444444,\"#bd3786\"],[0.5555555555555556,\"#d8576b\"],[0.6666666666666666,\"#ed7953\"],[0.7777777777777778,\"#fb9f3a\"],[0.8888888888888888,\"#fdca26\"],[1.0,\"#f0f921\"]]}],\"heatmap\":[{\"type\":\"heatmap\",\"colorbar\":{\"outlinewidth\":0,\"ticks\":\"\"},\"colorscale\":[[0.0,\"#0d0887\"],[0.1111111111111111,\"#46039f\"],[0.2222222222222222,\"#7201a8\"],[0.3333333333333333,\"#9c179e\"],[0.4444444444444444,\"#bd3786\"],[0.5555555555555556,\"#d8576b\"],[0.6666666666666666,\"#ed7953\"],[0.7777777777777778,\"#fb9f3a\"],[0.8888888888888888,\"#fdca26\"],[1.0,\"#f0f921\"]]}],\"heatmapgl\":[{\"type\":\"heatmapgl\",\"colorbar\":{\"outlinewidth\":0,\"ticks\":\"\"},\"colorscale\":[[0.0,\"#0d0887\"],[0.1111111111111111,\"#46039f\"],[0.2222222222222222,\"#7201a8\"],[0.3333333333333333,\"#9c179e\"],[0.4444444444444444,\"#bd3786\"],[0.5555555555555556,\"#d8576b\"],[0.6666666666666666,\"#ed7953\"],[0.7777777777777778,\"#fb9f3a\"],[0.8888888888888888,\"#fdca26\"],[1.0,\"#f0f921\"]]}],\"contourcarpet\":[{\"type\":\"contourcarpet\",\"colorbar\":{\"outlinewidth\":0,\"ticks\":\"\"}}],\"contour\":[{\"type\":\"contour\",\"colorbar\":{\"outlinewidth\":0,\"ticks\":\"\"},\"colorscale\":[[0.0,\"#0d0887\"],[0.1111111111111111,\"#46039f\"],[0.2222222222222222,\"#7201a8\"],[0.3333333333333333,\"#9c179e\"],[0.4444444444444444,\"#bd3786\"],[0.5555555555555556,\"#d8576b\"],[0.6666666666666666,\"#ed7953\"],[0.7777777777777778,\"#fb9f3a\"],[0.8888888888888888,\"#fdca26\"],[1.0,\"#f0f921\"]]}],\"surface\":[{\"type\":\"surface\",\"colorbar\":{\"outlinewidth\":0,\"ticks\":\"\"},\"colorscale\":[[0.0,\"#0d0887\"],[0.1111111111111111,\"#46039f\"],[0.2222222222222222,\"#7201a8\"],[0.3333333333333333,\"#9c179e\"],[0.4444444444444444,\"#bd3786\"],[0.5555555555555556,\"#d8576b\"],[0.6666666666666666,\"#ed7953\"],[0.7777777777777778,\"#fb9f3a\"],[0.8888888888888888,\"#fdca26\"],[1.0,\"#f0f921\"]]}],\"mesh3d\":[{\"type\":\"mesh3d\",\"colorbar\":{\"outlinewidth\":0,\"ticks\":\"\"}}],\"scatter\":[{\"fillpattern\":{\"fillmode\":\"overlay\",\"size\":10,\"solidity\":0.2},\"type\":\"scatter\"}],\"parcoords\":[{\"type\":\"parcoords\",\"line\":{\"colorbar\":{\"outlinewidth\":0,\"ticks\":\"\"}}}],\"scatterpolargl\":[{\"type\":\"scatterpolargl\",\"marker\":{\"colorbar\":{\"outlinewidth\":0,\"ticks\":\"\"}}}],\"bar\":[{\"error_x\":{\"color\":\"#2a3f5f\"},\"error_y\":{\"color\":\"#2a3f5f\"},\"marker\":{\"line\":{\"color\":\"#E5ECF6\",\"width\":0.5},\"pattern\":{\"fillmode\":\"overlay\",\"size\":10,\"solidity\":0.2}},\"type\":\"bar\"}],\"scattergeo\":[{\"type\":\"scattergeo\",\"marker\":{\"colorbar\":{\"outlinewidth\":0,\"ticks\":\"\"}}}],\"scatterpolar\":[{\"type\":\"scatterpolar\",\"marker\":{\"colorbar\":{\"outlinewidth\":0,\"ticks\":\"\"}}}],\"histogram\":[{\"marker\":{\"pattern\":{\"fillmode\":\"overlay\",\"size\":10,\"solidity\":0.2}},\"type\":\"histogram\"}],\"scattergl\":[{\"type\":\"scattergl\",\"marker\":{\"colorbar\":{\"outlinewidth\":0,\"ticks\":\"\"}}}],\"scatter3d\":[{\"type\":\"scatter3d\",\"line\":{\"colorbar\":{\"outlinewidth\":0,\"ticks\":\"\"}},\"marker\":{\"colorbar\":{\"outlinewidth\":0,\"ticks\":\"\"}}}],\"scattermapbox\":[{\"type\":\"scattermapbox\",\"marker\":{\"colorbar\":{\"outlinewidth\":0,\"ticks\":\"\"}}}],\"scatterternary\":[{\"type\":\"scatterternary\",\"marker\":{\"colorbar\":{\"outlinewidth\":0,\"ticks\":\"\"}}}],\"scattercarpet\":[{\"type\":\"scattercarpet\",\"marker\":{\"colorbar\":{\"outlinewidth\":0,\"ticks\":\"\"}}}],\"carpet\":[{\"aaxis\":{\"endlinecolor\":\"#2a3f5f\",\"gridcolor\":\"white\",\"linecolor\":\"white\",\"minorgridcolor\":\"white\",\"startlinecolor\":\"#2a3f5f\"},\"baxis\":{\"endlinecolor\":\"#2a3f5f\",\"gridcolor\":\"white\",\"linecolor\":\"white\",\"minorgridcolor\":\"white\",\"startlinecolor\":\"#2a3f5f\"},\"type\":\"carpet\"}],\"table\":[{\"cells\":{\"fill\":{\"color\":\"#EBF0F8\"},\"line\":{\"color\":\"white\"}},\"header\":{\"fill\":{\"color\":\"#C8D4E3\"},\"line\":{\"color\":\"white\"}},\"type\":\"table\"}],\"barpolar\":[{\"marker\":{\"line\":{\"color\":\"#E5ECF6\",\"width\":0.5},\"pattern\":{\"fillmode\":\"overlay\",\"size\":10,\"solidity\":0.2}},\"type\":\"barpolar\"}],\"pie\":[{\"automargin\":true,\"type\":\"pie\"}]},\"layout\":{\"autotypenumbers\":\"strict\",\"colorway\":[\"#636efa\",\"#EF553B\",\"#00cc96\",\"#ab63fa\",\"#FFA15A\",\"#19d3f3\",\"#FF6692\",\"#B6E880\",\"#FF97FF\",\"#FECB52\"],\"font\":{\"color\":\"#2a3f5f\"},\"hovermode\":\"closest\",\"hoverlabel\":{\"align\":\"left\"},\"paper_bgcolor\":\"white\",\"plot_bgcolor\":\"#E5ECF6\",\"polar\":{\"bgcolor\":\"#E5ECF6\",\"angularaxis\":{\"gridcolor\":\"white\",\"linecolor\":\"white\",\"ticks\":\"\"},\"radialaxis\":{\"gridcolor\":\"white\",\"linecolor\":\"white\",\"ticks\":\"\"}},\"ternary\":{\"bgcolor\":\"#E5ECF6\",\"aaxis\":{\"gridcolor\":\"white\",\"linecolor\":\"white\",\"ticks\":\"\"},\"baxis\":{\"gridcolor\":\"white\",\"linecolor\":\"white\",\"ticks\":\"\"},\"caxis\":{\"gridcolor\":\"white\",\"linecolor\":\"white\",\"ticks\":\"\"}},\"coloraxis\":{\"colorbar\":{\"outlinewidth\":0,\"ticks\":\"\"}},\"colorscale\":{\"sequential\":[[0.0,\"#0d0887\"],[0.1111111111111111,\"#46039f\"],[0.2222222222222222,\"#7201a8\"],[0.3333333333333333,\"#9c179e\"],[0.4444444444444444,\"#bd3786\"],[0.5555555555555556,\"#d8576b\"],[0.6666666666666666,\"#ed7953\"],[0.7777777777777778,\"#fb9f3a\"],[0.8888888888888888,\"#fdca26\"],[1.0,\"#f0f921\"]],\"sequentialminus\":[[0.0,\"#0d0887\"],[0.1111111111111111,\"#46039f\"],[0.2222222222222222,\"#7201a8\"],[0.3333333333333333,\"#9c179e\"],[0.4444444444444444,\"#bd3786\"],[0.5555555555555556,\"#d8576b\"],[0.6666666666666666,\"#ed7953\"],[0.7777777777777778,\"#fb9f3a\"],[0.8888888888888888,\"#fdca26\"],[1.0,\"#f0f921\"]],\"diverging\":[[0,\"#8e0152\"],[0.1,\"#c51b7d\"],[0.2,\"#de77ae\"],[0.3,\"#f1b6da\"],[0.4,\"#fde0ef\"],[0.5,\"#f7f7f7\"],[0.6,\"#e6f5d0\"],[0.7,\"#b8e186\"],[0.8,\"#7fbc41\"],[0.9,\"#4d9221\"],[1,\"#276419\"]]},\"xaxis\":{\"gridcolor\":\"white\",\"linecolor\":\"white\",\"ticks\":\"\",\"title\":{\"standoff\":15},\"zerolinecolor\":\"white\",\"automargin\":true,\"zerolinewidth\":2},\"yaxis\":{\"gridcolor\":\"white\",\"linecolor\":\"white\",\"ticks\":\"\",\"title\":{\"standoff\":15},\"zerolinecolor\":\"white\",\"automargin\":true,\"zerolinewidth\":2},\"scene\":{\"xaxis\":{\"backgroundcolor\":\"#E5ECF6\",\"gridcolor\":\"white\",\"linecolor\":\"white\",\"showbackground\":true,\"ticks\":\"\",\"zerolinecolor\":\"white\",\"gridwidth\":2},\"yaxis\":{\"backgroundcolor\":\"#E5ECF6\",\"gridcolor\":\"white\",\"linecolor\":\"white\",\"showbackground\":true,\"ticks\":\"\",\"zerolinecolor\":\"white\",\"gridwidth\":2},\"zaxis\":{\"backgroundcolor\":\"#E5ECF6\",\"gridcolor\":\"white\",\"linecolor\":\"white\",\"showbackground\":true,\"ticks\":\"\",\"zerolinecolor\":\"white\",\"gridwidth\":2}},\"shapedefaults\":{\"line\":{\"color\":\"#2a3f5f\"}},\"annotationdefaults\":{\"arrowcolor\":\"#2a3f5f\",\"arrowhead\":0,\"arrowwidth\":1},\"geo\":{\"bgcolor\":\"white\",\"landcolor\":\"#E5ECF6\",\"subunitcolor\":\"white\",\"showland\":true,\"showlakes\":true,\"lakecolor\":\"white\"},\"title\":{\"x\":0.05},\"mapbox\":{\"style\":\"light\"}}},\"font\":{\"family\":\"Arial\",\"size\":12,\"color\":\"Black\"},\"title\":{\"text\":\"Average Exemplar means over time (averaged per 200 iterations)\"},\"xaxis\":{\"title\":{\"text\":\"Iteration\"}},\"yaxis\":{\"title\":{\"text\":\"Mean\"}},\"plot_bgcolor\":\"rgba(0,0,0,0)\",\"width\":1500},                        {\"responsive\": true}                    ).then(function(){\n",
       "                            \n",
       "var gd = document.getElementById('db51356d-e351-4cf8-9827-f030b82ce9c9');\n",
       "var x = new MutationObserver(function (mutations, observer) {{\n",
       "        var display = window.getComputedStyle(gd).display;\n",
       "        if (!display || display === 'none') {{\n",
       "            console.log([gd, 'removed!']);\n",
       "            Plotly.purge(gd);\n",
       "            observer.disconnect();\n",
       "        }}\n",
       "}});\n",
       "\n",
       "// Listen for the removal of the full notebook cells\n",
       "var notebookContainer = gd.closest('#notebook-container');\n",
       "if (notebookContainer) {{\n",
       "    x.observe(notebookContainer, {childList: true});\n",
       "}}\n",
       "\n",
       "// Listen for the clearing of the current output cell\n",
       "var outputEl = gd.closest('.output');\n",
       "if (outputEl) {{\n",
       "    x.observe(outputEl, {childList: true});\n",
       "}}\n",
       "\n",
       "                        })                };                });            </script>        </div>"
      ]
     },
     "metadata": {},
     "output_type": "display_data"
    }
   ],
   "source": [
    "plots(10)"
   ]
  }
 ],
 "metadata": {
  "kernelspec": {
   "display_name": "Python 3 (ipykernel)",
   "language": "python",
   "name": "python3"
  },
  "language_info": {
   "codemirror_mode": {
    "name": "ipython",
    "version": 3
   },
   "file_extension": ".py",
   "mimetype": "text/x-python",
   "name": "python",
   "nbconvert_exporter": "python",
   "pygments_lexer": "ipython3",
   "version": "3.9.13"
  }
 },
 "nbformat": 4,
 "nbformat_minor": 5
}
